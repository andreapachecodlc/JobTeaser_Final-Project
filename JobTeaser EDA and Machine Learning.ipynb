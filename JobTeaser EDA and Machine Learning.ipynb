{
  "nbformat": 4,
  "nbformat_minor": 0,
  "metadata": {
    "colab": {
      "provenance": []
    },
    "kernelspec": {
      "name": "python3",
      "display_name": "Python 3"
    },
    "language_info": {
      "name": "python"
    },
    "widgets": {
      "application/vnd.jupyter.widget-state+json": {
        "33058455a9c4482eacf8e23f9e2bb13f": {
          "model_module": "@jupyter-widgets/controls",
          "model_name": "HBoxModel",
          "model_module_version": "1.5.0",
          "state": {
            "_dom_classes": [],
            "_model_module": "@jupyter-widgets/controls",
            "_model_module_version": "1.5.0",
            "_model_name": "HBoxModel",
            "_view_count": null,
            "_view_module": "@jupyter-widgets/controls",
            "_view_module_version": "1.5.0",
            "_view_name": "HBoxView",
            "box_style": "",
            "children": [
              "IPY_MODEL_a2da8bd8a952483593fea0af07f48471",
              "IPY_MODEL_10e5f25e0a5f45378232b66b3d1bee61",
              "IPY_MODEL_1bd1243ff92b4715ba1fd6c146295921"
            ],
            "layout": "IPY_MODEL_79442373f2d34e5387e0ed7ac772811d"
          }
        },
        "a2da8bd8a952483593fea0af07f48471": {
          "model_module": "@jupyter-widgets/controls",
          "model_name": "HTMLModel",
          "model_module_version": "1.5.0",
          "state": {
            "_dom_classes": [],
            "_model_module": "@jupyter-widgets/controls",
            "_model_module_version": "1.5.0",
            "_model_name": "HTMLModel",
            "_view_count": null,
            "_view_module": "@jupyter-widgets/controls",
            "_view_module_version": "1.5.0",
            "_view_name": "HTMLView",
            "description": "",
            "description_tooltip": null,
            "layout": "IPY_MODEL_994f274fe1c24442a556c1de6a3a30e9",
            "placeholder": "​",
            "style": "IPY_MODEL_af624568ecb84d9c8dfd97e3517d0dea",
            "value": "Processing: 100%"
          }
        },
        "10e5f25e0a5f45378232b66b3d1bee61": {
          "model_module": "@jupyter-widgets/controls",
          "model_name": "FloatProgressModel",
          "model_module_version": "1.5.0",
          "state": {
            "_dom_classes": [],
            "_model_module": "@jupyter-widgets/controls",
            "_model_module_version": "1.5.0",
            "_model_name": "FloatProgressModel",
            "_view_count": null,
            "_view_module": "@jupyter-widgets/controls",
            "_view_module_version": "1.5.0",
            "_view_name": "ProgressView",
            "bar_style": "",
            "description": "",
            "description_tooltip": null,
            "layout": "IPY_MODEL_3e8108ce4b574e15bed4f8e3ab525e05",
            "max": 65,
            "min": 0,
            "orientation": "horizontal",
            "style": "IPY_MODEL_09262e8238434dfdb4e052aefa956175",
            "value": 65
          }
        },
        "1bd1243ff92b4715ba1fd6c146295921": {
          "model_module": "@jupyter-widgets/controls",
          "model_name": "HTMLModel",
          "model_module_version": "1.5.0",
          "state": {
            "_dom_classes": [],
            "_model_module": "@jupyter-widgets/controls",
            "_model_module_version": "1.5.0",
            "_model_name": "HTMLModel",
            "_view_count": null,
            "_view_module": "@jupyter-widgets/controls",
            "_view_module_version": "1.5.0",
            "_view_name": "HTMLView",
            "description": "",
            "description_tooltip": null,
            "layout": "IPY_MODEL_0ab402b9d95e4da091416168775d13c7",
            "placeholder": "​",
            "style": "IPY_MODEL_ede9ae09a2fc42cc9b7ebec2c0c63e39",
            "value": " 65/65 [00:49&lt;00:00,  1.68it/s]"
          }
        },
        "79442373f2d34e5387e0ed7ac772811d": {
          "model_module": "@jupyter-widgets/base",
          "model_name": "LayoutModel",
          "model_module_version": "1.2.0",
          "state": {
            "_model_module": "@jupyter-widgets/base",
            "_model_module_version": "1.2.0",
            "_model_name": "LayoutModel",
            "_view_count": null,
            "_view_module": "@jupyter-widgets/base",
            "_view_module_version": "1.2.0",
            "_view_name": "LayoutView",
            "align_content": null,
            "align_items": null,
            "align_self": null,
            "border": null,
            "bottom": null,
            "display": null,
            "flex": null,
            "flex_flow": null,
            "grid_area": null,
            "grid_auto_columns": null,
            "grid_auto_flow": null,
            "grid_auto_rows": null,
            "grid_column": null,
            "grid_gap": null,
            "grid_row": null,
            "grid_template_areas": null,
            "grid_template_columns": null,
            "grid_template_rows": null,
            "height": null,
            "justify_content": null,
            "justify_items": null,
            "left": null,
            "margin": null,
            "max_height": null,
            "max_width": null,
            "min_height": null,
            "min_width": null,
            "object_fit": null,
            "object_position": null,
            "order": null,
            "overflow": null,
            "overflow_x": null,
            "overflow_y": null,
            "padding": null,
            "right": null,
            "top": null,
            "visibility": "hidden",
            "width": null
          }
        },
        "994f274fe1c24442a556c1de6a3a30e9": {
          "model_module": "@jupyter-widgets/base",
          "model_name": "LayoutModel",
          "model_module_version": "1.2.0",
          "state": {
            "_model_module": "@jupyter-widgets/base",
            "_model_module_version": "1.2.0",
            "_model_name": "LayoutModel",
            "_view_count": null,
            "_view_module": "@jupyter-widgets/base",
            "_view_module_version": "1.2.0",
            "_view_name": "LayoutView",
            "align_content": null,
            "align_items": null,
            "align_self": null,
            "border": null,
            "bottom": null,
            "display": null,
            "flex": null,
            "flex_flow": null,
            "grid_area": null,
            "grid_auto_columns": null,
            "grid_auto_flow": null,
            "grid_auto_rows": null,
            "grid_column": null,
            "grid_gap": null,
            "grid_row": null,
            "grid_template_areas": null,
            "grid_template_columns": null,
            "grid_template_rows": null,
            "height": null,
            "justify_content": null,
            "justify_items": null,
            "left": null,
            "margin": null,
            "max_height": null,
            "max_width": null,
            "min_height": null,
            "min_width": null,
            "object_fit": null,
            "object_position": null,
            "order": null,
            "overflow": null,
            "overflow_x": null,
            "overflow_y": null,
            "padding": null,
            "right": null,
            "top": null,
            "visibility": null,
            "width": null
          }
        },
        "af624568ecb84d9c8dfd97e3517d0dea": {
          "model_module": "@jupyter-widgets/controls",
          "model_name": "DescriptionStyleModel",
          "model_module_version": "1.5.0",
          "state": {
            "_model_module": "@jupyter-widgets/controls",
            "_model_module_version": "1.5.0",
            "_model_name": "DescriptionStyleModel",
            "_view_count": null,
            "_view_module": "@jupyter-widgets/base",
            "_view_module_version": "1.2.0",
            "_view_name": "StyleView",
            "description_width": ""
          }
        },
        "3e8108ce4b574e15bed4f8e3ab525e05": {
          "model_module": "@jupyter-widgets/base",
          "model_name": "LayoutModel",
          "model_module_version": "1.2.0",
          "state": {
            "_model_module": "@jupyter-widgets/base",
            "_model_module_version": "1.2.0",
            "_model_name": "LayoutModel",
            "_view_count": null,
            "_view_module": "@jupyter-widgets/base",
            "_view_module_version": "1.2.0",
            "_view_name": "LayoutView",
            "align_content": null,
            "align_items": null,
            "align_self": null,
            "border": null,
            "bottom": null,
            "display": null,
            "flex": null,
            "flex_flow": null,
            "grid_area": null,
            "grid_auto_columns": null,
            "grid_auto_flow": null,
            "grid_auto_rows": null,
            "grid_column": null,
            "grid_gap": null,
            "grid_row": null,
            "grid_template_areas": null,
            "grid_template_columns": null,
            "grid_template_rows": null,
            "height": null,
            "justify_content": null,
            "justify_items": null,
            "left": null,
            "margin": null,
            "max_height": null,
            "max_width": null,
            "min_height": null,
            "min_width": null,
            "object_fit": null,
            "object_position": null,
            "order": null,
            "overflow": null,
            "overflow_x": null,
            "overflow_y": null,
            "padding": null,
            "right": null,
            "top": null,
            "visibility": null,
            "width": null
          }
        },
        "09262e8238434dfdb4e052aefa956175": {
          "model_module": "@jupyter-widgets/controls",
          "model_name": "ProgressStyleModel",
          "model_module_version": "1.5.0",
          "state": {
            "_model_module": "@jupyter-widgets/controls",
            "_model_module_version": "1.5.0",
            "_model_name": "ProgressStyleModel",
            "_view_count": null,
            "_view_module": "@jupyter-widgets/base",
            "_view_module_version": "1.2.0",
            "_view_name": "StyleView",
            "bar_color": null,
            "description_width": ""
          }
        },
        "0ab402b9d95e4da091416168775d13c7": {
          "model_module": "@jupyter-widgets/base",
          "model_name": "LayoutModel",
          "model_module_version": "1.2.0",
          "state": {
            "_model_module": "@jupyter-widgets/base",
            "_model_module_version": "1.2.0",
            "_model_name": "LayoutModel",
            "_view_count": null,
            "_view_module": "@jupyter-widgets/base",
            "_view_module_version": "1.2.0",
            "_view_name": "LayoutView",
            "align_content": null,
            "align_items": null,
            "align_self": null,
            "border": null,
            "bottom": null,
            "display": null,
            "flex": null,
            "flex_flow": null,
            "grid_area": null,
            "grid_auto_columns": null,
            "grid_auto_flow": null,
            "grid_auto_rows": null,
            "grid_column": null,
            "grid_gap": null,
            "grid_row": null,
            "grid_template_areas": null,
            "grid_template_columns": null,
            "grid_template_rows": null,
            "height": null,
            "justify_content": null,
            "justify_items": null,
            "left": null,
            "margin": null,
            "max_height": null,
            "max_width": null,
            "min_height": null,
            "min_width": null,
            "object_fit": null,
            "object_position": null,
            "order": null,
            "overflow": null,
            "overflow_x": null,
            "overflow_y": null,
            "padding": null,
            "right": null,
            "top": null,
            "visibility": null,
            "width": null
          }
        },
        "ede9ae09a2fc42cc9b7ebec2c0c63e39": {
          "model_module": "@jupyter-widgets/controls",
          "model_name": "DescriptionStyleModel",
          "model_module_version": "1.5.0",
          "state": {
            "_model_module": "@jupyter-widgets/controls",
            "_model_module_version": "1.5.0",
            "_model_name": "DescriptionStyleModel",
            "_view_count": null,
            "_view_module": "@jupyter-widgets/base",
            "_view_module_version": "1.2.0",
            "_view_name": "StyleView",
            "description_width": ""
          }
        },
        "1b377a7781784b98a4b98868af794780": {
          "model_module": "@jupyter-widgets/controls",
          "model_name": "HBoxModel",
          "model_module_version": "1.5.0",
          "state": {
            "_dom_classes": [],
            "_model_module": "@jupyter-widgets/controls",
            "_model_module_version": "1.5.0",
            "_model_name": "HBoxModel",
            "_view_count": null,
            "_view_module": "@jupyter-widgets/controls",
            "_view_module_version": "1.5.0",
            "_view_name": "HBoxView",
            "box_style": "",
            "children": [
              "IPY_MODEL_a134972b6f6247ee96847699810e04fa",
              "IPY_MODEL_189a29d3760c4f1b9a37d92b78775505",
              "IPY_MODEL_60e51a374c6e45c689827651c3fda777"
            ],
            "layout": "IPY_MODEL_af9131c525c242bf8310d8a22fe05c03"
          }
        },
        "a134972b6f6247ee96847699810e04fa": {
          "model_module": "@jupyter-widgets/controls",
          "model_name": "HTMLModel",
          "model_module_version": "1.5.0",
          "state": {
            "_dom_classes": [],
            "_model_module": "@jupyter-widgets/controls",
            "_model_module_version": "1.5.0",
            "_model_name": "HTMLModel",
            "_view_count": null,
            "_view_module": "@jupyter-widgets/controls",
            "_view_module_version": "1.5.0",
            "_view_name": "HTMLView",
            "description": "",
            "description_tooltip": null,
            "layout": "IPY_MODEL_8e82fc59a7974c5e95c1603338ff3460",
            "placeholder": "​",
            "style": "IPY_MODEL_75663331910d44ffad5734a173834e7e",
            "value": "Processing: 100%"
          }
        },
        "189a29d3760c4f1b9a37d92b78775505": {
          "model_module": "@jupyter-widgets/controls",
          "model_name": "FloatProgressModel",
          "model_module_version": "1.5.0",
          "state": {
            "_dom_classes": [],
            "_model_module": "@jupyter-widgets/controls",
            "_model_module_version": "1.5.0",
            "_model_name": "FloatProgressModel",
            "_view_count": null,
            "_view_module": "@jupyter-widgets/controls",
            "_view_module_version": "1.5.0",
            "_view_name": "ProgressView",
            "bar_style": "",
            "description": "",
            "description_tooltip": null,
            "layout": "IPY_MODEL_73812fbb538946c29309f566562da0ad",
            "max": 7,
            "min": 0,
            "orientation": "horizontal",
            "style": "IPY_MODEL_4f5ab9d4c22e40e2bae1a0b2962ddd67",
            "value": 7
          }
        },
        "60e51a374c6e45c689827651c3fda777": {
          "model_module": "@jupyter-widgets/controls",
          "model_name": "HTMLModel",
          "model_module_version": "1.5.0",
          "state": {
            "_dom_classes": [],
            "_model_module": "@jupyter-widgets/controls",
            "_model_module_version": "1.5.0",
            "_model_name": "HTMLModel",
            "_view_count": null,
            "_view_module": "@jupyter-widgets/controls",
            "_view_module_version": "1.5.0",
            "_view_name": "HTMLView",
            "description": "",
            "description_tooltip": null,
            "layout": "IPY_MODEL_96b688c9103744d99f5e958cbc827988",
            "placeholder": "​",
            "style": "IPY_MODEL_5473d4ad305f4232818f554fccefe1e2",
            "value": " 7/7 [01:05&lt;00:00,  7.44s/it]"
          }
        },
        "af9131c525c242bf8310d8a22fe05c03": {
          "model_module": "@jupyter-widgets/base",
          "model_name": "LayoutModel",
          "model_module_version": "1.2.0",
          "state": {
            "_model_module": "@jupyter-widgets/base",
            "_model_module_version": "1.2.0",
            "_model_name": "LayoutModel",
            "_view_count": null,
            "_view_module": "@jupyter-widgets/base",
            "_view_module_version": "1.2.0",
            "_view_name": "LayoutView",
            "align_content": null,
            "align_items": null,
            "align_self": null,
            "border": null,
            "bottom": null,
            "display": null,
            "flex": null,
            "flex_flow": null,
            "grid_area": null,
            "grid_auto_columns": null,
            "grid_auto_flow": null,
            "grid_auto_rows": null,
            "grid_column": null,
            "grid_gap": null,
            "grid_row": null,
            "grid_template_areas": null,
            "grid_template_columns": null,
            "grid_template_rows": null,
            "height": null,
            "justify_content": null,
            "justify_items": null,
            "left": null,
            "margin": null,
            "max_height": null,
            "max_width": null,
            "min_height": null,
            "min_width": null,
            "object_fit": null,
            "object_position": null,
            "order": null,
            "overflow": null,
            "overflow_x": null,
            "overflow_y": null,
            "padding": null,
            "right": null,
            "top": null,
            "visibility": "hidden",
            "width": null
          }
        },
        "8e82fc59a7974c5e95c1603338ff3460": {
          "model_module": "@jupyter-widgets/base",
          "model_name": "LayoutModel",
          "model_module_version": "1.2.0",
          "state": {
            "_model_module": "@jupyter-widgets/base",
            "_model_module_version": "1.2.0",
            "_model_name": "LayoutModel",
            "_view_count": null,
            "_view_module": "@jupyter-widgets/base",
            "_view_module_version": "1.2.0",
            "_view_name": "LayoutView",
            "align_content": null,
            "align_items": null,
            "align_self": null,
            "border": null,
            "bottom": null,
            "display": null,
            "flex": null,
            "flex_flow": null,
            "grid_area": null,
            "grid_auto_columns": null,
            "grid_auto_flow": null,
            "grid_auto_rows": null,
            "grid_column": null,
            "grid_gap": null,
            "grid_row": null,
            "grid_template_areas": null,
            "grid_template_columns": null,
            "grid_template_rows": null,
            "height": null,
            "justify_content": null,
            "justify_items": null,
            "left": null,
            "margin": null,
            "max_height": null,
            "max_width": null,
            "min_height": null,
            "min_width": null,
            "object_fit": null,
            "object_position": null,
            "order": null,
            "overflow": null,
            "overflow_x": null,
            "overflow_y": null,
            "padding": null,
            "right": null,
            "top": null,
            "visibility": null,
            "width": null
          }
        },
        "75663331910d44ffad5734a173834e7e": {
          "model_module": "@jupyter-widgets/controls",
          "model_name": "DescriptionStyleModel",
          "model_module_version": "1.5.0",
          "state": {
            "_model_module": "@jupyter-widgets/controls",
            "_model_module_version": "1.5.0",
            "_model_name": "DescriptionStyleModel",
            "_view_count": null,
            "_view_module": "@jupyter-widgets/base",
            "_view_module_version": "1.2.0",
            "_view_name": "StyleView",
            "description_width": ""
          }
        },
        "73812fbb538946c29309f566562da0ad": {
          "model_module": "@jupyter-widgets/base",
          "model_name": "LayoutModel",
          "model_module_version": "1.2.0",
          "state": {
            "_model_module": "@jupyter-widgets/base",
            "_model_module_version": "1.2.0",
            "_model_name": "LayoutModel",
            "_view_count": null,
            "_view_module": "@jupyter-widgets/base",
            "_view_module_version": "1.2.0",
            "_view_name": "LayoutView",
            "align_content": null,
            "align_items": null,
            "align_self": null,
            "border": null,
            "bottom": null,
            "display": null,
            "flex": null,
            "flex_flow": null,
            "grid_area": null,
            "grid_auto_columns": null,
            "grid_auto_flow": null,
            "grid_auto_rows": null,
            "grid_column": null,
            "grid_gap": null,
            "grid_row": null,
            "grid_template_areas": null,
            "grid_template_columns": null,
            "grid_template_rows": null,
            "height": null,
            "justify_content": null,
            "justify_items": null,
            "left": null,
            "margin": null,
            "max_height": null,
            "max_width": null,
            "min_height": null,
            "min_width": null,
            "object_fit": null,
            "object_position": null,
            "order": null,
            "overflow": null,
            "overflow_x": null,
            "overflow_y": null,
            "padding": null,
            "right": null,
            "top": null,
            "visibility": null,
            "width": null
          }
        },
        "4f5ab9d4c22e40e2bae1a0b2962ddd67": {
          "model_module": "@jupyter-widgets/controls",
          "model_name": "ProgressStyleModel",
          "model_module_version": "1.5.0",
          "state": {
            "_model_module": "@jupyter-widgets/controls",
            "_model_module_version": "1.5.0",
            "_model_name": "ProgressStyleModel",
            "_view_count": null,
            "_view_module": "@jupyter-widgets/base",
            "_view_module_version": "1.2.0",
            "_view_name": "StyleView",
            "bar_color": null,
            "description_width": ""
          }
        },
        "96b688c9103744d99f5e958cbc827988": {
          "model_module": "@jupyter-widgets/base",
          "model_name": "LayoutModel",
          "model_module_version": "1.2.0",
          "state": {
            "_model_module": "@jupyter-widgets/base",
            "_model_module_version": "1.2.0",
            "_model_name": "LayoutModel",
            "_view_count": null,
            "_view_module": "@jupyter-widgets/base",
            "_view_module_version": "1.2.0",
            "_view_name": "LayoutView",
            "align_content": null,
            "align_items": null,
            "align_self": null,
            "border": null,
            "bottom": null,
            "display": null,
            "flex": null,
            "flex_flow": null,
            "grid_area": null,
            "grid_auto_columns": null,
            "grid_auto_flow": null,
            "grid_auto_rows": null,
            "grid_column": null,
            "grid_gap": null,
            "grid_row": null,
            "grid_template_areas": null,
            "grid_template_columns": null,
            "grid_template_rows": null,
            "height": null,
            "justify_content": null,
            "justify_items": null,
            "left": null,
            "margin": null,
            "max_height": null,
            "max_width": null,
            "min_height": null,
            "min_width": null,
            "object_fit": null,
            "object_position": null,
            "order": null,
            "overflow": null,
            "overflow_x": null,
            "overflow_y": null,
            "padding": null,
            "right": null,
            "top": null,
            "visibility": null,
            "width": null
          }
        },
        "5473d4ad305f4232818f554fccefe1e2": {
          "model_module": "@jupyter-widgets/controls",
          "model_name": "DescriptionStyleModel",
          "model_module_version": "1.5.0",
          "state": {
            "_model_module": "@jupyter-widgets/controls",
            "_model_module_version": "1.5.0",
            "_model_name": "DescriptionStyleModel",
            "_view_count": null,
            "_view_module": "@jupyter-widgets/base",
            "_view_module_version": "1.2.0",
            "_view_name": "StyleView",
            "description_width": ""
          }
        },
        "657eea187d2d4e0eb2e3893a93f2524b": {
          "model_module": "@jupyter-widgets/controls",
          "model_name": "VBoxModel",
          "model_module_version": "1.5.0",
          "state": {
            "_dom_classes": [
              "widget-interact"
            ],
            "_model_module": "@jupyter-widgets/controls",
            "_model_module_version": "1.5.0",
            "_model_name": "VBoxModel",
            "_view_count": null,
            "_view_module": "@jupyter-widgets/controls",
            "_view_module_version": "1.5.0",
            "_view_name": "VBoxView",
            "box_style": "",
            "children": [
              "IPY_MODEL_0a6e23a64c7d42b68064e6aa5d8a73bf",
              "IPY_MODEL_e9926e5a9e4c479099c7081ea71a405f"
            ],
            "layout": "IPY_MODEL_bda73912c5364dd69e4b09106a0a7e22"
          }
        },
        "0a6e23a64c7d42b68064e6aa5d8a73bf": {
          "model_module": "@jupyter-widgets/controls",
          "model_name": "ToggleButtonsModel",
          "model_module_version": "1.5.0",
          "state": {
            "_dom_classes": [],
            "_model_module": "@jupyter-widgets/controls",
            "_model_module_version": "1.5.0",
            "_model_name": "ToggleButtonsModel",
            "_options_labels": [
              "Pipeline Plot",
              "Hyperparameters",
              "AUC",
              "Confusion Matrix",
              "Threshold",
              "Precision Recall",
              "Prediction Error",
              "Class Report",
              "Feature Selection",
              "Learning Curve",
              "Manifold Learning",
              "Calibration Curve",
              "Validation Curve",
              "Dimensions",
              "Feature Importance",
              "Feature Importance (All)",
              "Decision Boundary",
              "Lift Chart",
              "Gain Chart",
              "Decision Tree",
              "KS Statistic Plot"
            ],
            "_view_count": null,
            "_view_module": "@jupyter-widgets/controls",
            "_view_module_version": "1.5.0",
            "_view_name": "ToggleButtonsView",
            "button_style": "",
            "description": "Plot Type:",
            "description_tooltip": null,
            "disabled": false,
            "icons": [
              ""
            ],
            "index": 1,
            "layout": "IPY_MODEL_c6293f4b7bb94e6fa0144cce8f9f9058",
            "style": "IPY_MODEL_0fbc37a242a7409b8b67092f5282b291",
            "tooltips": []
          }
        },
        "e9926e5a9e4c479099c7081ea71a405f": {
          "model_module": "@jupyter-widgets/output",
          "model_name": "OutputModel",
          "model_module_version": "1.0.0",
          "state": {
            "_dom_classes": [],
            "_model_module": "@jupyter-widgets/output",
            "_model_module_version": "1.0.0",
            "_model_name": "OutputModel",
            "_view_count": null,
            "_view_module": "@jupyter-widgets/output",
            "_view_module_version": "1.0.0",
            "_view_name": "OutputView",
            "layout": "IPY_MODEL_060c2b6a442c495c82d76c524beac4de",
            "msg_id": "",
            "outputs": [
              {
                "output_type": "display_data",
                "data": {
                  "text/plain": "                         Parameters\nbootstrap                      True\nccp_alpha                       0.0\nclass_weight                   None\ncriterion                      gini\nmax_depth                      None\nmax_features                   sqrt\nmax_leaf_nodes                 None\nmax_samples                    None\nmin_impurity_decrease           0.0\nmin_samples_leaf                  1\nmin_samples_split                 2\nmin_weight_fraction_leaf        0.0\nmonotonic_cst                  None\nn_estimators                    100\nn_jobs                           -1\noob_score                     False\nrandom_state                     42\nverbose                           0\nwarm_start                    False",
                  "text/html": "\n  <div id=\"df-c2f5058c-c374-4769-a6bb-c00e8a6e37c1\" class=\"colab-df-container\">\n    <div>\n<style scoped>\n    .dataframe tbody tr th:only-of-type {\n        vertical-align: middle;\n    }\n\n    .dataframe tbody tr th {\n        vertical-align: top;\n    }\n\n    .dataframe thead th {\n        text-align: right;\n    }\n</style>\n<table border=\"1\" class=\"dataframe\">\n  <thead>\n    <tr style=\"text-align: right;\">\n      <th></th>\n      <th>Parameters</th>\n    </tr>\n  </thead>\n  <tbody>\n    <tr>\n      <th>bootstrap</th>\n      <td>True</td>\n    </tr>\n    <tr>\n      <th>ccp_alpha</th>\n      <td>0.0</td>\n    </tr>\n    <tr>\n      <th>class_weight</th>\n      <td>None</td>\n    </tr>\n    <tr>\n      <th>criterion</th>\n      <td>gini</td>\n    </tr>\n    <tr>\n      <th>max_depth</th>\n      <td>None</td>\n    </tr>\n    <tr>\n      <th>max_features</th>\n      <td>sqrt</td>\n    </tr>\n    <tr>\n      <th>max_leaf_nodes</th>\n      <td>None</td>\n    </tr>\n    <tr>\n      <th>max_samples</th>\n      <td>None</td>\n    </tr>\n    <tr>\n      <th>min_impurity_decrease</th>\n      <td>0.0</td>\n    </tr>\n    <tr>\n      <th>min_samples_leaf</th>\n      <td>1</td>\n    </tr>\n    <tr>\n      <th>min_samples_split</th>\n      <td>2</td>\n    </tr>\n    <tr>\n      <th>min_weight_fraction_leaf</th>\n      <td>0.0</td>\n    </tr>\n    <tr>\n      <th>monotonic_cst</th>\n      <td>None</td>\n    </tr>\n    <tr>\n      <th>n_estimators</th>\n      <td>100</td>\n    </tr>\n    <tr>\n      <th>n_jobs</th>\n      <td>-1</td>\n    </tr>\n    <tr>\n      <th>oob_score</th>\n      <td>False</td>\n    </tr>\n    <tr>\n      <th>random_state</th>\n      <td>42</td>\n    </tr>\n    <tr>\n      <th>verbose</th>\n      <td>0</td>\n    </tr>\n    <tr>\n      <th>warm_start</th>\n      <td>False</td>\n    </tr>\n  </tbody>\n</table>\n</div>\n    <div class=\"colab-df-buttons\">\n\n  <div class=\"colab-df-container\">\n    <button class=\"colab-df-convert\" onclick=\"convertToInteractive('df-c2f5058c-c374-4769-a6bb-c00e8a6e37c1')\"\n            title=\"Convert this dataframe to an interactive table.\"\n            style=\"display:none;\">\n\n  <svg xmlns=\"http://www.w3.org/2000/svg\" height=\"24px\" viewBox=\"0 -960 960 960\">\n    <path d=\"M120-120v-720h720v720H120Zm60-500h600v-160H180v160Zm220 220h160v-160H400v160Zm0 220h160v-160H400v160ZM180-400h160v-160H180v160Zm440 0h160v-160H620v160ZM180-180h160v-160H180v160Zm440 0h160v-160H620v160Z\"/>\n  </svg>\n    </button>\n\n  <style>\n    .colab-df-container {\n      display:flex;\n      gap: 12px;\n    }\n\n    .colab-df-convert {\n      background-color: #E8F0FE;\n      border: none;\n      border-radius: 50%;\n      cursor: pointer;\n      display: none;\n      fill: #1967D2;\n      height: 32px;\n      padding: 0 0 0 0;\n      width: 32px;\n    }\n\n    .colab-df-convert:hover {\n      background-color: #E2EBFA;\n      box-shadow: 0px 1px 2px rgba(60, 64, 67, 0.3), 0px 1px 3px 1px rgba(60, 64, 67, 0.15);\n      fill: #174EA6;\n    }\n\n    .colab-df-buttons div {\n      margin-bottom: 4px;\n    }\n\n    [theme=dark] .colab-df-convert {\n      background-color: #3B4455;\n      fill: #D2E3FC;\n    }\n\n    [theme=dark] .colab-df-convert:hover {\n      background-color: #434B5C;\n      box-shadow: 0px 1px 3px 1px rgba(0, 0, 0, 0.15);\n      filter: drop-shadow(0px 1px 2px rgba(0, 0, 0, 0.3));\n      fill: #FFFFFF;\n    }\n  </style>\n\n    <script>\n      const buttonEl =\n        document.querySelector('#df-c2f5058c-c374-4769-a6bb-c00e8a6e37c1 button.colab-df-convert');\n      buttonEl.style.display =\n        google.colab.kernel.accessAllowed ? 'block' : 'none';\n\n      async function convertToInteractive(key) {\n        const element = document.querySelector('#df-c2f5058c-c374-4769-a6bb-c00e8a6e37c1');\n        const dataTable =\n          await google.colab.kernel.invokeFunction('convertToInteractive',\n                                                    [key], {});\n        if (!dataTable) return;\n\n        const docLinkHtml = 'Like what you see? Visit the ' +\n          '<a target=\"_blank\" href=https://colab.research.google.com/notebooks/data_table.ipynb>data table notebook</a>'\n          + ' to learn more about interactive tables.';\n        element.innerHTML = '';\n        dataTable['output_type'] = 'display_data';\n        await google.colab.output.renderOutput(dataTable, element);\n        const docLink = document.createElement('div');\n        docLink.innerHTML = docLinkHtml;\n        element.appendChild(docLink);\n      }\n    </script>\n  </div>\n\n\n<div id=\"df-bdf4eca6-36fc-4ed4-af51-31471ad364f5\">\n  <button class=\"colab-df-quickchart\" onclick=\"quickchart('df-bdf4eca6-36fc-4ed4-af51-31471ad364f5')\"\n            title=\"Suggest charts\"\n            style=\"display:none;\">\n\n<svg xmlns=\"http://www.w3.org/2000/svg\" height=\"24px\"viewBox=\"0 0 24 24\"\n     width=\"24px\">\n    <g>\n        <path d=\"M19 3H5c-1.1 0-2 .9-2 2v14c0 1.1.9 2 2 2h14c1.1 0 2-.9 2-2V5c0-1.1-.9-2-2-2zM9 17H7v-7h2v7zm4 0h-2V7h2v10zm4 0h-2v-4h2v4z\"/>\n    </g>\n</svg>\n  </button>\n\n<style>\n  .colab-df-quickchart {\n      --bg-color: #E8F0FE;\n      --fill-color: #1967D2;\n      --hover-bg-color: #E2EBFA;\n      --hover-fill-color: #174EA6;\n      --disabled-fill-color: #AAA;\n      --disabled-bg-color: #DDD;\n  }\n\n  [theme=dark] .colab-df-quickchart {\n      --bg-color: #3B4455;\n      --fill-color: #D2E3FC;\n      --hover-bg-color: #434B5C;\n      --hover-fill-color: #FFFFFF;\n      --disabled-bg-color: #3B4455;\n      --disabled-fill-color: #666;\n  }\n\n  .colab-df-quickchart {\n    background-color: var(--bg-color);\n    border: none;\n    border-radius: 50%;\n    cursor: pointer;\n    display: none;\n    fill: var(--fill-color);\n    height: 32px;\n    padding: 0;\n    width: 32px;\n  }\n\n  .colab-df-quickchart:hover {\n    background-color: var(--hover-bg-color);\n    box-shadow: 0 1px 2px rgba(60, 64, 67, 0.3), 0 1px 3px 1px rgba(60, 64, 67, 0.15);\n    fill: var(--button-hover-fill-color);\n  }\n\n  .colab-df-quickchart-complete:disabled,\n  .colab-df-quickchart-complete:disabled:hover {\n    background-color: var(--disabled-bg-color);\n    fill: var(--disabled-fill-color);\n    box-shadow: none;\n  }\n\n  .colab-df-spinner {\n    border: 2px solid var(--fill-color);\n    border-color: transparent;\n    border-bottom-color: var(--fill-color);\n    animation:\n      spin 1s steps(1) infinite;\n  }\n\n  @keyframes spin {\n    0% {\n      border-color: transparent;\n      border-bottom-color: var(--fill-color);\n      border-left-color: var(--fill-color);\n    }\n    20% {\n      border-color: transparent;\n      border-left-color: var(--fill-color);\n      border-top-color: var(--fill-color);\n    }\n    30% {\n      border-color: transparent;\n      border-left-color: var(--fill-color);\n      border-top-color: var(--fill-color);\n      border-right-color: var(--fill-color);\n    }\n    40% {\n      border-color: transparent;\n      border-right-color: var(--fill-color);\n      border-top-color: var(--fill-color);\n    }\n    60% {\n      border-color: transparent;\n      border-right-color: var(--fill-color);\n    }\n    80% {\n      border-color: transparent;\n      border-right-color: var(--fill-color);\n      border-bottom-color: var(--fill-color);\n    }\n    90% {\n      border-color: transparent;\n      border-bottom-color: var(--fill-color);\n    }\n  }\n</style>\n\n  <script>\n    async function quickchart(key) {\n      const quickchartButtonEl =\n        document.querySelector('#' + key + ' button');\n      quickchartButtonEl.disabled = true;  // To prevent multiple clicks.\n      quickchartButtonEl.classList.add('colab-df-spinner');\n      try {\n        const charts = await google.colab.kernel.invokeFunction(\n            'suggestCharts', [key], {});\n      } catch (error) {\n        console.error('Error during call to suggestCharts:', error);\n      }\n      quickchartButtonEl.classList.remove('colab-df-spinner');\n      quickchartButtonEl.classList.add('colab-df-quickchart-complete');\n    }\n    (() => {\n      let quickchartButtonEl =\n        document.querySelector('#df-bdf4eca6-36fc-4ed4-af51-31471ad364f5 button');\n      quickchartButtonEl.style.display =\n        google.colab.kernel.accessAllowed ? 'block' : 'none';\n    })();\n  </script>\n</div>\n\n    </div>\n  </div>\n",
                  "application/vnd.google.colaboratory.intrinsic+json": {
                    "type": "dataframe",
                    "summary": "{\n  \"name\": \"evaluate_model(best_model)\",\n  \"rows\": 19,\n  \"fields\": [\n    {\n      \"column\": \"Parameters\",\n      \"properties\": {\n        \"dtype\": \"string\",\n        \"num_unique_values\": 12,\n        \"samples\": [\n          \"42\",\n          \"False\",\n          \"True\"\n        ],\n        \"semantic_type\": \"\",\n        \"description\": \"\"\n      }\n    }\n  ]\n}"
                  }
                },
                "metadata": {}
              }
            ]
          }
        },
        "bda73912c5364dd69e4b09106a0a7e22": {
          "model_module": "@jupyter-widgets/base",
          "model_name": "LayoutModel",
          "model_module_version": "1.2.0",
          "state": {
            "_model_module": "@jupyter-widgets/base",
            "_model_module_version": "1.2.0",
            "_model_name": "LayoutModel",
            "_view_count": null,
            "_view_module": "@jupyter-widgets/base",
            "_view_module_version": "1.2.0",
            "_view_name": "LayoutView",
            "align_content": null,
            "align_items": null,
            "align_self": null,
            "border": null,
            "bottom": null,
            "display": null,
            "flex": null,
            "flex_flow": null,
            "grid_area": null,
            "grid_auto_columns": null,
            "grid_auto_flow": null,
            "grid_auto_rows": null,
            "grid_column": null,
            "grid_gap": null,
            "grid_row": null,
            "grid_template_areas": null,
            "grid_template_columns": null,
            "grid_template_rows": null,
            "height": null,
            "justify_content": null,
            "justify_items": null,
            "left": null,
            "margin": null,
            "max_height": null,
            "max_width": null,
            "min_height": null,
            "min_width": null,
            "object_fit": null,
            "object_position": null,
            "order": null,
            "overflow": null,
            "overflow_x": null,
            "overflow_y": null,
            "padding": null,
            "right": null,
            "top": null,
            "visibility": null,
            "width": null
          }
        },
        "c6293f4b7bb94e6fa0144cce8f9f9058": {
          "model_module": "@jupyter-widgets/base",
          "model_name": "LayoutModel",
          "model_module_version": "1.2.0",
          "state": {
            "_model_module": "@jupyter-widgets/base",
            "_model_module_version": "1.2.0",
            "_model_name": "LayoutModel",
            "_view_count": null,
            "_view_module": "@jupyter-widgets/base",
            "_view_module_version": "1.2.0",
            "_view_name": "LayoutView",
            "align_content": null,
            "align_items": null,
            "align_self": null,
            "border": null,
            "bottom": null,
            "display": null,
            "flex": null,
            "flex_flow": null,
            "grid_area": null,
            "grid_auto_columns": null,
            "grid_auto_flow": null,
            "grid_auto_rows": null,
            "grid_column": null,
            "grid_gap": null,
            "grid_row": null,
            "grid_template_areas": null,
            "grid_template_columns": null,
            "grid_template_rows": null,
            "height": null,
            "justify_content": null,
            "justify_items": null,
            "left": null,
            "margin": null,
            "max_height": null,
            "max_width": null,
            "min_height": null,
            "min_width": null,
            "object_fit": null,
            "object_position": null,
            "order": null,
            "overflow": null,
            "overflow_x": null,
            "overflow_y": null,
            "padding": null,
            "right": null,
            "top": null,
            "visibility": null,
            "width": null
          }
        },
        "0fbc37a242a7409b8b67092f5282b291": {
          "model_module": "@jupyter-widgets/controls",
          "model_name": "ToggleButtonsStyleModel",
          "model_module_version": "1.5.0",
          "state": {
            "_model_module": "@jupyter-widgets/controls",
            "_model_module_version": "1.5.0",
            "_model_name": "ToggleButtonsStyleModel",
            "_view_count": null,
            "_view_module": "@jupyter-widgets/base",
            "_view_module_version": "1.2.0",
            "_view_name": "StyleView",
            "button_width": "",
            "description_width": "",
            "font_weight": ""
          }
        },
        "060c2b6a442c495c82d76c524beac4de": {
          "model_module": "@jupyter-widgets/base",
          "model_name": "LayoutModel",
          "model_module_version": "1.2.0",
          "state": {
            "_model_module": "@jupyter-widgets/base",
            "_model_module_version": "1.2.0",
            "_model_name": "LayoutModel",
            "_view_count": null,
            "_view_module": "@jupyter-widgets/base",
            "_view_module_version": "1.2.0",
            "_view_name": "LayoutView",
            "align_content": null,
            "align_items": null,
            "align_self": null,
            "border": null,
            "bottom": null,
            "display": null,
            "flex": null,
            "flex_flow": null,
            "grid_area": null,
            "grid_auto_columns": null,
            "grid_auto_flow": null,
            "grid_auto_rows": null,
            "grid_column": null,
            "grid_gap": null,
            "grid_row": null,
            "grid_template_areas": null,
            "grid_template_columns": null,
            "grid_template_rows": null,
            "height": null,
            "justify_content": null,
            "justify_items": null,
            "left": null,
            "margin": null,
            "max_height": null,
            "max_width": null,
            "min_height": null,
            "min_width": null,
            "object_fit": null,
            "object_position": null,
            "order": null,
            "overflow": null,
            "overflow_x": null,
            "overflow_y": null,
            "padding": null,
            "right": null,
            "top": null,
            "visibility": null,
            "width": null
          }
        }
      }
    }
  },
  "cells": [
    {
      "cell_type": "markdown",
      "source": [
        "# **Optimizing the JobTeaser Placement Funnel**"
      ],
      "metadata": {
        "id": "wl_yGf9svuPH"
      }
    },
    {
      "cell_type": "markdown",
      "source": [
        "## **1. Introduction:**\n",
        "### **Context:**\n",
        "**JobTeaser** is a platform that connects students and companies by managing career services for over 750 universities globally. It provides a **matching tool** where companies can shortlist students for job opportunities. Optimizing the job placement funnel is critical to enhancing student employment rates and improving the platform's efficiency\n",
        "\n",
        "### **Project goal:**\n",
        "The goal of this project is to analyze and optimize the JobTeaser job placement funnel by identifying bottlenecks in the current process and suggesting improvements to increase student engagement and job matches.\n",
        "\n",
        "### **Data Overview:**\n",
        "This analysis uses three key datasets:\n",
        "#### **Opt-in Table (optin):**\n",
        " Contains data about students opting in or out of JobTeaser services.\n",
        "\n",
        "- **user_id:** ID of the student.\n",
        "- **receive_time:** Date/time of opt-in/out.\n",
        "- **cause:** Reason (manual or automatic).\n",
        "- **active:** TRUE if opted in, FALSE if opted out.\n",
        "- **school_id:** ID of the school.\n",
        "- **current_sign_in_at:** Last login time.\n",
        "- **resume_uploaded:** Whether the CV was uploaded.\n",
        "\n",
        "#### **Candidate Status Update (candidate_status_update):**\n",
        "Tracks students' status updates within the job application process.\n",
        "\n",
        "- **user_id**: ID of the student.\n",
        "- **receive_time**: Date/time of the event.\n",
        "- **shortlist_id**: ID of the shortlist.\n",
        "- **status_update**: Status (estudiante: `awaiting`, `interested`, `not interested`; empresa: `approved`, `declined`).\n",
        "- **cause**: Reason (click or timeout).\n",
        "- **school_id**: ID of the school.\n",
        "- **current_sign_in_at**: Last login time.\n",
        "\n",
        "\n",
        "#### **School Info Table (dim_schools):**\n",
        "Provides data about the schools participating in JobTeaser's services.\n",
        "\n",
        "- **school_id:** ID of the school.\n",
        "- **is_cc:** Career center or public site.\n",
        "- **intranet_school_id:** ID of the career center, if applicable.\n",
        "- **jt_country:** Country of the school.\n",
        "- **jt_intranet_status:** Status \"launched\" for career centers.\n",
        "- **jt_school_type:** Type of school (1: Engineering, 2: Business, 3: Other).\n"
      ],
      "metadata": {
        "id": "a2RnoWZqv3-f"
      }
    },
    {
      "cell_type": "markdown",
      "source": [
        "## **2. Data Loading and Preparation:**"
      ],
      "metadata": {
        "id": "67ptlCK5wwl3"
      }
    },
    {
      "cell_type": "markdown",
      "source": [
        "### **Library Imports:**"
      ],
      "metadata": {
        "id": "qbD_2H4wppdC"
      }
    },
    {
      "cell_type": "code",
      "source": [
        "import pandas as pd\n",
        "import numpy as np\n",
        "import plotly.express as px\n",
        "from plotly import graph_objects as go\n",
        "from sklearn.preprocessing import LabelEncoder\n",
        "from sklearn.model_selection import train_test_split\n",
        "from sklearn.preprocessing import OneHotEncoder\n",
        "from pycaret.classification import setup\n",
        "from pycaret.classification import compare_models\n",
        "from pycaret.classification import tune_model\n",
        "from pycaret.classification import plot_model, evaluate_model\n",
        "from pycaret.classification import save_model\n"
      ],
      "metadata": {
        "id": "uXXVjO4Ov20w"
      },
      "execution_count": 1,
      "outputs": []
    },
    {
      "cell_type": "markdown",
      "source": [
        "### **Data Loading:**"
      ],
      "metadata": {
        "id": "AplEgOTzpzIg"
      }
    },
    {
      "cell_type": "code",
      "source": [
        "df_optin = pd.read_csv('/content/optim_clean.csv')\n",
        "df_candidate = pd.read_csv('/content/candidate_status_update_clean.csv')\n",
        "df_school = pd.read_csv('/content/dim_schools_clean.csv')"
      ],
      "metadata": {
        "id": "uDf28-iuxqCo"
      },
      "execution_count": 2,
      "outputs": []
    },
    {
      "cell_type": "markdown",
      "source": [
        "### **Data Cleaning:**"
      ],
      "metadata": {
        "id": "uuwBEtrhp3tJ"
      }
    },
    {
      "cell_type": "code",
      "source": [
        "# Removing unnecessary columns\n",
        "df_optin.drop(columns='Unnamed: 0', inplace=True)\n",
        "df_candidate.drop(columns='Unnamed: 0', inplace=True)\n",
        "df_school.drop(columns='Unnamed: 0', inplace=True)\n",
        "\n",
        "# Converting 'receive_time' and 'current_sign_in_at' columns to datetime format\n",
        "df_optin['receive_time'] = pd.to_datetime(df_optin['receive_time'])\n",
        "df_optin['current_sign_in_at'] = pd.to_datetime(df_optin['current_sign_in_at'])\n",
        "df_candidate['receive_time'] = pd.to_datetime(df_candidate['receive_time'])\n",
        "df_candidate['current_sign_in_at'] = pd.to_datetime(df_candidate['current_sign_in_at'])"
      ],
      "metadata": {
        "id": "Oc6HRC2Wsabh"
      },
      "execution_count": 3,
      "outputs": []
    },
    {
      "cell_type": "markdown",
      "source": [
        "## **3. Exploratory Data Analysis (EDA):**"
      ],
      "metadata": {
        "id": "ruBRbpkZyd64"
      }
    },
    {
      "cell_type": "markdown",
      "source": [
        "### **Preliminary Funnel Analysis:**"
      ],
      "metadata": {
        "id": "51flFFV1qNsO"
      }
    },
    {
      "cell_type": "code",
      "source": [
        "# Stages of the funnel\n",
        "stages = [\n",
        "    'Total Users',           # Stage 1: All users in the system\n",
        "    'Resume Uploaded',       # Stage 2: Users who uploaded their resume\n",
        "    'Total Candidates',      # Stage 3: Total candidates (can include duplicates)\n",
        "    'Users Answered',        # Stage 4: Users who clicked on an email and responded (interested or not interested)\n",
        "    'Interested Users',      # Stage 5: Users marked as interested\n",
        "    'Company Responded',     # Stage 6: Companies that responded (approved or declined, triggered by email click)\n",
        "    'Approved Users'         # Stage 7: Users who have been approved\n",
        "]\n",
        "\n",
        "# Empty list to store user counts for each stage\n",
        "counts = []\n",
        "\n",
        "# Stage 1: All users in the system\n",
        "total_users = df_optin['user_id'].nunique()\n",
        "counts.append(total_users)\n",
        "\n",
        "# Stage 2: Users who uploaded their resume\n",
        "users_with_resume = df_optin[df_optin['resume_uploaded'] == True]['user_id'].nunique()\n",
        "counts.append(users_with_resume)\n",
        "\n",
        "# Stage 3: Total candidates (can include duplicates)\n",
        "total_candidates = df_candidate['user_id'].count()\n",
        "counts.append(total_candidates)\n",
        "\n",
        "# Stage 4: Users who clicked on an email and responded (interested or not interested)\n",
        "users_answered = df_candidate[\n",
        "    (df_candidate['status_update'].isin(['interested', 'not interested'])) &\n",
        "    (df_candidate['cause'] == 'email-click')\n",
        "]['user_id'].count()\n",
        "counts.append(users_answered)\n",
        "\n",
        "# Stage 5: Users marked as interested\n",
        "interested_users = df_candidate[df_candidate['status_update'] == 'interested']['user_id'].count()\n",
        "counts.append(interested_users)\n",
        "\n",
        "# Stage 6: Companies that responded (approved or declined, triggered by email click)\n",
        "company_responded = df_candidate[\n",
        "    (df_candidate['status_update'].isin(['approved', 'declined'])) &\n",
        "    (df_candidate['cause'] == 'email-click')\n",
        "]['user_id'].count()\n",
        "counts.append(company_responded)\n",
        "\n",
        "# Stage 7: Users who have been approved\n",
        "approved_users = df_candidate[df_candidate['status_update'] == 'approved']['user_id'].count()\n",
        "counts.append(approved_users)\n",
        "\n",
        "# DataFrame with the stages and their corresponding user counts\n",
        "df_stages = pd.DataFrame({\n",
        "    'stage': stages,\n",
        "    'count': counts\n",
        "})\n",
        "\n",
        "\n"
      ],
      "metadata": {
        "id": "asy2H2eOfawg"
      },
      "execution_count": 4,
      "outputs": []
    },
    {
      "cell_type": "code",
      "source": [
        "fig = px.funnel(df_stages, x='count', y='stage', color_discrete_sequence=['palegreen'])\n",
        "\n",
        "fig.show()\n"
      ],
      "metadata": {
        "colab": {
          "base_uri": "https://localhost:8080/",
          "height": 542
        },
        "id": "bybmqX8g_5IH",
        "outputId": "f0de7718-fda6-4ff0-83dd-ba9dc7aaf619"
      },
      "execution_count": 5,
      "outputs": [
        {
          "output_type": "display_data",
          "data": {
            "text/html": [
              "<html>\n",
              "<head><meta charset=\"utf-8\" /></head>\n",
              "<body>\n",
              "    <div>            <script src=\"https://cdnjs.cloudflare.com/ajax/libs/mathjax/2.7.5/MathJax.js?config=TeX-AMS-MML_SVG\"></script><script type=\"text/javascript\">if (window.MathJax && window.MathJax.Hub && window.MathJax.Hub.Config) {window.MathJax.Hub.Config({SVG: {font: \"STIX-Web\"}});}</script>                <script type=\"text/javascript\">window.PlotlyConfig = {MathJaxConfig: 'local'};</script>\n",
              "        <script charset=\"utf-8\" src=\"https://cdn.plot.ly/plotly-2.35.2.min.js\"></script>                <div id=\"01bab512-ad9d-4913-a31d-0fbba18b1b0a\" class=\"plotly-graph-div\" style=\"height:525px; width:100%;\"></div>            <script type=\"text/javascript\">                                    window.PLOTLYENV=window.PLOTLYENV || {};                                    if (document.getElementById(\"01bab512-ad9d-4913-a31d-0fbba18b1b0a\")) {                    Plotly.newPlot(                        \"01bab512-ad9d-4913-a31d-0fbba18b1b0a\",                        [{\"hovertemplate\":\"count=%{x}\\u003cbr\\u003estage=%{y}\\u003cextra\\u003e\\u003c\\u002fextra\\u003e\",\"legendgroup\":\"\",\"marker\":{\"color\":\"palegreen\"},\"name\":\"\",\"orientation\":\"h\",\"showlegend\":false,\"x\":[376552,296857,50364,24136,10419,1437,688],\"xaxis\":\"x\",\"y\":[\"Total Users\",\"Resume Uploaded\",\"Total Candidates\",\"Users Answered\",\"Interested Users\",\"Company Responded\",\"Approved Users\"],\"yaxis\":\"y\",\"type\":\"funnel\"}],                        {\"template\":{\"data\":{\"histogram2dcontour\":[{\"type\":\"histogram2dcontour\",\"colorbar\":{\"outlinewidth\":0,\"ticks\":\"\"},\"colorscale\":[[0.0,\"#0d0887\"],[0.1111111111111111,\"#46039f\"],[0.2222222222222222,\"#7201a8\"],[0.3333333333333333,\"#9c179e\"],[0.4444444444444444,\"#bd3786\"],[0.5555555555555556,\"#d8576b\"],[0.6666666666666666,\"#ed7953\"],[0.7777777777777778,\"#fb9f3a\"],[0.8888888888888888,\"#fdca26\"],[1.0,\"#f0f921\"]]}],\"choropleth\":[{\"type\":\"choropleth\",\"colorbar\":{\"outlinewidth\":0,\"ticks\":\"\"}}],\"histogram2d\":[{\"type\":\"histogram2d\",\"colorbar\":{\"outlinewidth\":0,\"ticks\":\"\"},\"colorscale\":[[0.0,\"#0d0887\"],[0.1111111111111111,\"#46039f\"],[0.2222222222222222,\"#7201a8\"],[0.3333333333333333,\"#9c179e\"],[0.4444444444444444,\"#bd3786\"],[0.5555555555555556,\"#d8576b\"],[0.6666666666666666,\"#ed7953\"],[0.7777777777777778,\"#fb9f3a\"],[0.8888888888888888,\"#fdca26\"],[1.0,\"#f0f921\"]]}],\"heatmap\":[{\"type\":\"heatmap\",\"colorbar\":{\"outlinewidth\":0,\"ticks\":\"\"},\"colorscale\":[[0.0,\"#0d0887\"],[0.1111111111111111,\"#46039f\"],[0.2222222222222222,\"#7201a8\"],[0.3333333333333333,\"#9c179e\"],[0.4444444444444444,\"#bd3786\"],[0.5555555555555556,\"#d8576b\"],[0.6666666666666666,\"#ed7953\"],[0.7777777777777778,\"#fb9f3a\"],[0.8888888888888888,\"#fdca26\"],[1.0,\"#f0f921\"]]}],\"heatmapgl\":[{\"type\":\"heatmapgl\",\"colorbar\":{\"outlinewidth\":0,\"ticks\":\"\"},\"colorscale\":[[0.0,\"#0d0887\"],[0.1111111111111111,\"#46039f\"],[0.2222222222222222,\"#7201a8\"],[0.3333333333333333,\"#9c179e\"],[0.4444444444444444,\"#bd3786\"],[0.5555555555555556,\"#d8576b\"],[0.6666666666666666,\"#ed7953\"],[0.7777777777777778,\"#fb9f3a\"],[0.8888888888888888,\"#fdca26\"],[1.0,\"#f0f921\"]]}],\"contourcarpet\":[{\"type\":\"contourcarpet\",\"colorbar\":{\"outlinewidth\":0,\"ticks\":\"\"}}],\"contour\":[{\"type\":\"contour\",\"colorbar\":{\"outlinewidth\":0,\"ticks\":\"\"},\"colorscale\":[[0.0,\"#0d0887\"],[0.1111111111111111,\"#46039f\"],[0.2222222222222222,\"#7201a8\"],[0.3333333333333333,\"#9c179e\"],[0.4444444444444444,\"#bd3786\"],[0.5555555555555556,\"#d8576b\"],[0.6666666666666666,\"#ed7953\"],[0.7777777777777778,\"#fb9f3a\"],[0.8888888888888888,\"#fdca26\"],[1.0,\"#f0f921\"]]}],\"surface\":[{\"type\":\"surface\",\"colorbar\":{\"outlinewidth\":0,\"ticks\":\"\"},\"colorscale\":[[0.0,\"#0d0887\"],[0.1111111111111111,\"#46039f\"],[0.2222222222222222,\"#7201a8\"],[0.3333333333333333,\"#9c179e\"],[0.4444444444444444,\"#bd3786\"],[0.5555555555555556,\"#d8576b\"],[0.6666666666666666,\"#ed7953\"],[0.7777777777777778,\"#fb9f3a\"],[0.8888888888888888,\"#fdca26\"],[1.0,\"#f0f921\"]]}],\"mesh3d\":[{\"type\":\"mesh3d\",\"colorbar\":{\"outlinewidth\":0,\"ticks\":\"\"}}],\"scatter\":[{\"fillpattern\":{\"fillmode\":\"overlay\",\"size\":10,\"solidity\":0.2},\"type\":\"scatter\"}],\"parcoords\":[{\"type\":\"parcoords\",\"line\":{\"colorbar\":{\"outlinewidth\":0,\"ticks\":\"\"}}}],\"scatterpolargl\":[{\"type\":\"scatterpolargl\",\"marker\":{\"colorbar\":{\"outlinewidth\":0,\"ticks\":\"\"}}}],\"bar\":[{\"error_x\":{\"color\":\"#2a3f5f\"},\"error_y\":{\"color\":\"#2a3f5f\"},\"marker\":{\"line\":{\"color\":\"#E5ECF6\",\"width\":0.5},\"pattern\":{\"fillmode\":\"overlay\",\"size\":10,\"solidity\":0.2}},\"type\":\"bar\"}],\"scattergeo\":[{\"type\":\"scattergeo\",\"marker\":{\"colorbar\":{\"outlinewidth\":0,\"ticks\":\"\"}}}],\"scatterpolar\":[{\"type\":\"scatterpolar\",\"marker\":{\"colorbar\":{\"outlinewidth\":0,\"ticks\":\"\"}}}],\"histogram\":[{\"marker\":{\"pattern\":{\"fillmode\":\"overlay\",\"size\":10,\"solidity\":0.2}},\"type\":\"histogram\"}],\"scattergl\":[{\"type\":\"scattergl\",\"marker\":{\"colorbar\":{\"outlinewidth\":0,\"ticks\":\"\"}}}],\"scatter3d\":[{\"type\":\"scatter3d\",\"line\":{\"colorbar\":{\"outlinewidth\":0,\"ticks\":\"\"}},\"marker\":{\"colorbar\":{\"outlinewidth\":0,\"ticks\":\"\"}}}],\"scattermapbox\":[{\"type\":\"scattermapbox\",\"marker\":{\"colorbar\":{\"outlinewidth\":0,\"ticks\":\"\"}}}],\"scatterternary\":[{\"type\":\"scatterternary\",\"marker\":{\"colorbar\":{\"outlinewidth\":0,\"ticks\":\"\"}}}],\"scattercarpet\":[{\"type\":\"scattercarpet\",\"marker\":{\"colorbar\":{\"outlinewidth\":0,\"ticks\":\"\"}}}],\"carpet\":[{\"aaxis\":{\"endlinecolor\":\"#2a3f5f\",\"gridcolor\":\"white\",\"linecolor\":\"white\",\"minorgridcolor\":\"white\",\"startlinecolor\":\"#2a3f5f\"},\"baxis\":{\"endlinecolor\":\"#2a3f5f\",\"gridcolor\":\"white\",\"linecolor\":\"white\",\"minorgridcolor\":\"white\",\"startlinecolor\":\"#2a3f5f\"},\"type\":\"carpet\"}],\"table\":[{\"cells\":{\"fill\":{\"color\":\"#EBF0F8\"},\"line\":{\"color\":\"white\"}},\"header\":{\"fill\":{\"color\":\"#C8D4E3\"},\"line\":{\"color\":\"white\"}},\"type\":\"table\"}],\"barpolar\":[{\"marker\":{\"line\":{\"color\":\"#E5ECF6\",\"width\":0.5},\"pattern\":{\"fillmode\":\"overlay\",\"size\":10,\"solidity\":0.2}},\"type\":\"barpolar\"}],\"pie\":[{\"automargin\":true,\"type\":\"pie\"}]},\"layout\":{\"autotypenumbers\":\"strict\",\"colorway\":[\"#636efa\",\"#EF553B\",\"#00cc96\",\"#ab63fa\",\"#FFA15A\",\"#19d3f3\",\"#FF6692\",\"#B6E880\",\"#FF97FF\",\"#FECB52\"],\"font\":{\"color\":\"#2a3f5f\"},\"hovermode\":\"closest\",\"hoverlabel\":{\"align\":\"left\"},\"paper_bgcolor\":\"white\",\"plot_bgcolor\":\"#E5ECF6\",\"polar\":{\"bgcolor\":\"#E5ECF6\",\"angularaxis\":{\"gridcolor\":\"white\",\"linecolor\":\"white\",\"ticks\":\"\"},\"radialaxis\":{\"gridcolor\":\"white\",\"linecolor\":\"white\",\"ticks\":\"\"}},\"ternary\":{\"bgcolor\":\"#E5ECF6\",\"aaxis\":{\"gridcolor\":\"white\",\"linecolor\":\"white\",\"ticks\":\"\"},\"baxis\":{\"gridcolor\":\"white\",\"linecolor\":\"white\",\"ticks\":\"\"},\"caxis\":{\"gridcolor\":\"white\",\"linecolor\":\"white\",\"ticks\":\"\"}},\"coloraxis\":{\"colorbar\":{\"outlinewidth\":0,\"ticks\":\"\"}},\"colorscale\":{\"sequential\":[[0.0,\"#0d0887\"],[0.1111111111111111,\"#46039f\"],[0.2222222222222222,\"#7201a8\"],[0.3333333333333333,\"#9c179e\"],[0.4444444444444444,\"#bd3786\"],[0.5555555555555556,\"#d8576b\"],[0.6666666666666666,\"#ed7953\"],[0.7777777777777778,\"#fb9f3a\"],[0.8888888888888888,\"#fdca26\"],[1.0,\"#f0f921\"]],\"sequentialminus\":[[0.0,\"#0d0887\"],[0.1111111111111111,\"#46039f\"],[0.2222222222222222,\"#7201a8\"],[0.3333333333333333,\"#9c179e\"],[0.4444444444444444,\"#bd3786\"],[0.5555555555555556,\"#d8576b\"],[0.6666666666666666,\"#ed7953\"],[0.7777777777777778,\"#fb9f3a\"],[0.8888888888888888,\"#fdca26\"],[1.0,\"#f0f921\"]],\"diverging\":[[0,\"#8e0152\"],[0.1,\"#c51b7d\"],[0.2,\"#de77ae\"],[0.3,\"#f1b6da\"],[0.4,\"#fde0ef\"],[0.5,\"#f7f7f7\"],[0.6,\"#e6f5d0\"],[0.7,\"#b8e186\"],[0.8,\"#7fbc41\"],[0.9,\"#4d9221\"],[1,\"#276419\"]]},\"xaxis\":{\"gridcolor\":\"white\",\"linecolor\":\"white\",\"ticks\":\"\",\"title\":{\"standoff\":15},\"zerolinecolor\":\"white\",\"automargin\":true,\"zerolinewidth\":2},\"yaxis\":{\"gridcolor\":\"white\",\"linecolor\":\"white\",\"ticks\":\"\",\"title\":{\"standoff\":15},\"zerolinecolor\":\"white\",\"automargin\":true,\"zerolinewidth\":2},\"scene\":{\"xaxis\":{\"backgroundcolor\":\"#E5ECF6\",\"gridcolor\":\"white\",\"linecolor\":\"white\",\"showbackground\":true,\"ticks\":\"\",\"zerolinecolor\":\"white\",\"gridwidth\":2},\"yaxis\":{\"backgroundcolor\":\"#E5ECF6\",\"gridcolor\":\"white\",\"linecolor\":\"white\",\"showbackground\":true,\"ticks\":\"\",\"zerolinecolor\":\"white\",\"gridwidth\":2},\"zaxis\":{\"backgroundcolor\":\"#E5ECF6\",\"gridcolor\":\"white\",\"linecolor\":\"white\",\"showbackground\":true,\"ticks\":\"\",\"zerolinecolor\":\"white\",\"gridwidth\":2}},\"shapedefaults\":{\"line\":{\"color\":\"#2a3f5f\"}},\"annotationdefaults\":{\"arrowcolor\":\"#2a3f5f\",\"arrowhead\":0,\"arrowwidth\":1},\"geo\":{\"bgcolor\":\"white\",\"landcolor\":\"#E5ECF6\",\"subunitcolor\":\"white\",\"showland\":true,\"showlakes\":true,\"lakecolor\":\"white\"},\"title\":{\"x\":0.05},\"mapbox\":{\"style\":\"light\"}}},\"xaxis\":{\"anchor\":\"y\",\"domain\":[0.0,1.0],\"title\":{\"text\":\"count\"}},\"yaxis\":{\"anchor\":\"x\",\"domain\":[0.0,1.0],\"title\":{\"text\":\"stage\"}},\"legend\":{\"tracegroupgap\":0},\"margin\":{\"t\":60}},                        {\"responsive\": true}                    ).then(function(){\n",
              "                            \n",
              "var gd = document.getElementById('01bab512-ad9d-4913-a31d-0fbba18b1b0a');\n",
              "var x = new MutationObserver(function (mutations, observer) {{\n",
              "        var display = window.getComputedStyle(gd).display;\n",
              "        if (!display || display === 'none') {{\n",
              "            console.log([gd, 'removed!']);\n",
              "            Plotly.purge(gd);\n",
              "            observer.disconnect();\n",
              "        }}\n",
              "}});\n",
              "\n",
              "// Listen for the removal of the full notebook cells\n",
              "var notebookContainer = gd.closest('#notebook-container');\n",
              "if (notebookContainer) {{\n",
              "    x.observe(notebookContainer, {childList: true});\n",
              "}}\n",
              "\n",
              "// Listen for the clearing of the current output cell\n",
              "var outputEl = gd.closest('.output');\n",
              "if (outputEl) {{\n",
              "    x.observe(outputEl, {childList: true});\n",
              "}}\n",
              "\n",
              "                        })                };                            </script>        </div>\n",
              "</body>\n",
              "</html>"
            ]
          },
          "metadata": {}
        }
      ]
    },
    {
      "cell_type": "markdown",
      "source": [
        "### **Distribution of status updates:**"
      ],
      "metadata": {
        "id": "5G1QNwNtqsW_"
      }
    },
    {
      "cell_type": "code",
      "source": [
        "status_counts = df_candidate['status_update'].value_counts().rename_axis('status_update').reset_index(name='count')\n",
        "fig = px.pie(status_counts, values='count', names='status_update', title='Status Distribution', color_discrete_sequence=px.colors.sequential.Greens_r[::2])\n",
        "fig.show()\n"
      ],
      "metadata": {
        "colab": {
          "base_uri": "https://localhost:8080/",
          "height": 542
        },
        "id": "8uKlXhyRxQ6Q",
        "outputId": "022a9a17-8a1a-4668-e319-d0b485249464"
      },
      "execution_count": 6,
      "outputs": [
        {
          "output_type": "display_data",
          "data": {
            "text/html": [
              "<html>\n",
              "<head><meta charset=\"utf-8\" /></head>\n",
              "<body>\n",
              "    <div>            <script src=\"https://cdnjs.cloudflare.com/ajax/libs/mathjax/2.7.5/MathJax.js?config=TeX-AMS-MML_SVG\"></script><script type=\"text/javascript\">if (window.MathJax && window.MathJax.Hub && window.MathJax.Hub.Config) {window.MathJax.Hub.Config({SVG: {font: \"STIX-Web\"}});}</script>                <script type=\"text/javascript\">window.PlotlyConfig = {MathJaxConfig: 'local'};</script>\n",
              "        <script charset=\"utf-8\" src=\"https://cdn.plot.ly/plotly-2.35.2.min.js\"></script>                <div id=\"a5758a97-4505-48ec-b3f0-c458eedf4b93\" class=\"plotly-graph-div\" style=\"height:525px; width:100%;\"></div>            <script type=\"text/javascript\">                                    window.PLOTLYENV=window.PLOTLYENV || {};                                    if (document.getElementById(\"a5758a97-4505-48ec-b3f0-c458eedf4b93\")) {                    Plotly.newPlot(                        \"a5758a97-4505-48ec-b3f0-c458eedf4b93\",                        [{\"domain\":{\"x\":[0.0,1.0],\"y\":[0.0,1.0]},\"hovertemplate\":\"status_update=%{label}\\u003cbr\\u003ecount=%{value}\\u003cextra\\u003e\\u003c\\u002fextra\\u003e\",\"labels\":[\"not interested\",\"interested\",\"declined\",\"approved\",\"awaiting\"],\"legendgroup\":\"\",\"name\":\"\",\"showlegend\":true,\"values\":[38327,10419,749,688,181],\"type\":\"pie\"}],                        {\"template\":{\"data\":{\"histogram2dcontour\":[{\"type\":\"histogram2dcontour\",\"colorbar\":{\"outlinewidth\":0,\"ticks\":\"\"},\"colorscale\":[[0.0,\"#0d0887\"],[0.1111111111111111,\"#46039f\"],[0.2222222222222222,\"#7201a8\"],[0.3333333333333333,\"#9c179e\"],[0.4444444444444444,\"#bd3786\"],[0.5555555555555556,\"#d8576b\"],[0.6666666666666666,\"#ed7953\"],[0.7777777777777778,\"#fb9f3a\"],[0.8888888888888888,\"#fdca26\"],[1.0,\"#f0f921\"]]}],\"choropleth\":[{\"type\":\"choropleth\",\"colorbar\":{\"outlinewidth\":0,\"ticks\":\"\"}}],\"histogram2d\":[{\"type\":\"histogram2d\",\"colorbar\":{\"outlinewidth\":0,\"ticks\":\"\"},\"colorscale\":[[0.0,\"#0d0887\"],[0.1111111111111111,\"#46039f\"],[0.2222222222222222,\"#7201a8\"],[0.3333333333333333,\"#9c179e\"],[0.4444444444444444,\"#bd3786\"],[0.5555555555555556,\"#d8576b\"],[0.6666666666666666,\"#ed7953\"],[0.7777777777777778,\"#fb9f3a\"],[0.8888888888888888,\"#fdca26\"],[1.0,\"#f0f921\"]]}],\"heatmap\":[{\"type\":\"heatmap\",\"colorbar\":{\"outlinewidth\":0,\"ticks\":\"\"},\"colorscale\":[[0.0,\"#0d0887\"],[0.1111111111111111,\"#46039f\"],[0.2222222222222222,\"#7201a8\"],[0.3333333333333333,\"#9c179e\"],[0.4444444444444444,\"#bd3786\"],[0.5555555555555556,\"#d8576b\"],[0.6666666666666666,\"#ed7953\"],[0.7777777777777778,\"#fb9f3a\"],[0.8888888888888888,\"#fdca26\"],[1.0,\"#f0f921\"]]}],\"heatmapgl\":[{\"type\":\"heatmapgl\",\"colorbar\":{\"outlinewidth\":0,\"ticks\":\"\"},\"colorscale\":[[0.0,\"#0d0887\"],[0.1111111111111111,\"#46039f\"],[0.2222222222222222,\"#7201a8\"],[0.3333333333333333,\"#9c179e\"],[0.4444444444444444,\"#bd3786\"],[0.5555555555555556,\"#d8576b\"],[0.6666666666666666,\"#ed7953\"],[0.7777777777777778,\"#fb9f3a\"],[0.8888888888888888,\"#fdca26\"],[1.0,\"#f0f921\"]]}],\"contourcarpet\":[{\"type\":\"contourcarpet\",\"colorbar\":{\"outlinewidth\":0,\"ticks\":\"\"}}],\"contour\":[{\"type\":\"contour\",\"colorbar\":{\"outlinewidth\":0,\"ticks\":\"\"},\"colorscale\":[[0.0,\"#0d0887\"],[0.1111111111111111,\"#46039f\"],[0.2222222222222222,\"#7201a8\"],[0.3333333333333333,\"#9c179e\"],[0.4444444444444444,\"#bd3786\"],[0.5555555555555556,\"#d8576b\"],[0.6666666666666666,\"#ed7953\"],[0.7777777777777778,\"#fb9f3a\"],[0.8888888888888888,\"#fdca26\"],[1.0,\"#f0f921\"]]}],\"surface\":[{\"type\":\"surface\",\"colorbar\":{\"outlinewidth\":0,\"ticks\":\"\"},\"colorscale\":[[0.0,\"#0d0887\"],[0.1111111111111111,\"#46039f\"],[0.2222222222222222,\"#7201a8\"],[0.3333333333333333,\"#9c179e\"],[0.4444444444444444,\"#bd3786\"],[0.5555555555555556,\"#d8576b\"],[0.6666666666666666,\"#ed7953\"],[0.7777777777777778,\"#fb9f3a\"],[0.8888888888888888,\"#fdca26\"],[1.0,\"#f0f921\"]]}],\"mesh3d\":[{\"type\":\"mesh3d\",\"colorbar\":{\"outlinewidth\":0,\"ticks\":\"\"}}],\"scatter\":[{\"fillpattern\":{\"fillmode\":\"overlay\",\"size\":10,\"solidity\":0.2},\"type\":\"scatter\"}],\"parcoords\":[{\"type\":\"parcoords\",\"line\":{\"colorbar\":{\"outlinewidth\":0,\"ticks\":\"\"}}}],\"scatterpolargl\":[{\"type\":\"scatterpolargl\",\"marker\":{\"colorbar\":{\"outlinewidth\":0,\"ticks\":\"\"}}}],\"bar\":[{\"error_x\":{\"color\":\"#2a3f5f\"},\"error_y\":{\"color\":\"#2a3f5f\"},\"marker\":{\"line\":{\"color\":\"#E5ECF6\",\"width\":0.5},\"pattern\":{\"fillmode\":\"overlay\",\"size\":10,\"solidity\":0.2}},\"type\":\"bar\"}],\"scattergeo\":[{\"type\":\"scattergeo\",\"marker\":{\"colorbar\":{\"outlinewidth\":0,\"ticks\":\"\"}}}],\"scatterpolar\":[{\"type\":\"scatterpolar\",\"marker\":{\"colorbar\":{\"outlinewidth\":0,\"ticks\":\"\"}}}],\"histogram\":[{\"marker\":{\"pattern\":{\"fillmode\":\"overlay\",\"size\":10,\"solidity\":0.2}},\"type\":\"histogram\"}],\"scattergl\":[{\"type\":\"scattergl\",\"marker\":{\"colorbar\":{\"outlinewidth\":0,\"ticks\":\"\"}}}],\"scatter3d\":[{\"type\":\"scatter3d\",\"line\":{\"colorbar\":{\"outlinewidth\":0,\"ticks\":\"\"}},\"marker\":{\"colorbar\":{\"outlinewidth\":0,\"ticks\":\"\"}}}],\"scattermapbox\":[{\"type\":\"scattermapbox\",\"marker\":{\"colorbar\":{\"outlinewidth\":0,\"ticks\":\"\"}}}],\"scatterternary\":[{\"type\":\"scatterternary\",\"marker\":{\"colorbar\":{\"outlinewidth\":0,\"ticks\":\"\"}}}],\"scattercarpet\":[{\"type\":\"scattercarpet\",\"marker\":{\"colorbar\":{\"outlinewidth\":0,\"ticks\":\"\"}}}],\"carpet\":[{\"aaxis\":{\"endlinecolor\":\"#2a3f5f\",\"gridcolor\":\"white\",\"linecolor\":\"white\",\"minorgridcolor\":\"white\",\"startlinecolor\":\"#2a3f5f\"},\"baxis\":{\"endlinecolor\":\"#2a3f5f\",\"gridcolor\":\"white\",\"linecolor\":\"white\",\"minorgridcolor\":\"white\",\"startlinecolor\":\"#2a3f5f\"},\"type\":\"carpet\"}],\"table\":[{\"cells\":{\"fill\":{\"color\":\"#EBF0F8\"},\"line\":{\"color\":\"white\"}},\"header\":{\"fill\":{\"color\":\"#C8D4E3\"},\"line\":{\"color\":\"white\"}},\"type\":\"table\"}],\"barpolar\":[{\"marker\":{\"line\":{\"color\":\"#E5ECF6\",\"width\":0.5},\"pattern\":{\"fillmode\":\"overlay\",\"size\":10,\"solidity\":0.2}},\"type\":\"barpolar\"}],\"pie\":[{\"automargin\":true,\"type\":\"pie\"}]},\"layout\":{\"autotypenumbers\":\"strict\",\"colorway\":[\"#636efa\",\"#EF553B\",\"#00cc96\",\"#ab63fa\",\"#FFA15A\",\"#19d3f3\",\"#FF6692\",\"#B6E880\",\"#FF97FF\",\"#FECB52\"],\"font\":{\"color\":\"#2a3f5f\"},\"hovermode\":\"closest\",\"hoverlabel\":{\"align\":\"left\"},\"paper_bgcolor\":\"white\",\"plot_bgcolor\":\"#E5ECF6\",\"polar\":{\"bgcolor\":\"#E5ECF6\",\"angularaxis\":{\"gridcolor\":\"white\",\"linecolor\":\"white\",\"ticks\":\"\"},\"radialaxis\":{\"gridcolor\":\"white\",\"linecolor\":\"white\",\"ticks\":\"\"}},\"ternary\":{\"bgcolor\":\"#E5ECF6\",\"aaxis\":{\"gridcolor\":\"white\",\"linecolor\":\"white\",\"ticks\":\"\"},\"baxis\":{\"gridcolor\":\"white\",\"linecolor\":\"white\",\"ticks\":\"\"},\"caxis\":{\"gridcolor\":\"white\",\"linecolor\":\"white\",\"ticks\":\"\"}},\"coloraxis\":{\"colorbar\":{\"outlinewidth\":0,\"ticks\":\"\"}},\"colorscale\":{\"sequential\":[[0.0,\"#0d0887\"],[0.1111111111111111,\"#46039f\"],[0.2222222222222222,\"#7201a8\"],[0.3333333333333333,\"#9c179e\"],[0.4444444444444444,\"#bd3786\"],[0.5555555555555556,\"#d8576b\"],[0.6666666666666666,\"#ed7953\"],[0.7777777777777778,\"#fb9f3a\"],[0.8888888888888888,\"#fdca26\"],[1.0,\"#f0f921\"]],\"sequentialminus\":[[0.0,\"#0d0887\"],[0.1111111111111111,\"#46039f\"],[0.2222222222222222,\"#7201a8\"],[0.3333333333333333,\"#9c179e\"],[0.4444444444444444,\"#bd3786\"],[0.5555555555555556,\"#d8576b\"],[0.6666666666666666,\"#ed7953\"],[0.7777777777777778,\"#fb9f3a\"],[0.8888888888888888,\"#fdca26\"],[1.0,\"#f0f921\"]],\"diverging\":[[0,\"#8e0152\"],[0.1,\"#c51b7d\"],[0.2,\"#de77ae\"],[0.3,\"#f1b6da\"],[0.4,\"#fde0ef\"],[0.5,\"#f7f7f7\"],[0.6,\"#e6f5d0\"],[0.7,\"#b8e186\"],[0.8,\"#7fbc41\"],[0.9,\"#4d9221\"],[1,\"#276419\"]]},\"xaxis\":{\"gridcolor\":\"white\",\"linecolor\":\"white\",\"ticks\":\"\",\"title\":{\"standoff\":15},\"zerolinecolor\":\"white\",\"automargin\":true,\"zerolinewidth\":2},\"yaxis\":{\"gridcolor\":\"white\",\"linecolor\":\"white\",\"ticks\":\"\",\"title\":{\"standoff\":15},\"zerolinecolor\":\"white\",\"automargin\":true,\"zerolinewidth\":2},\"scene\":{\"xaxis\":{\"backgroundcolor\":\"#E5ECF6\",\"gridcolor\":\"white\",\"linecolor\":\"white\",\"showbackground\":true,\"ticks\":\"\",\"zerolinecolor\":\"white\",\"gridwidth\":2},\"yaxis\":{\"backgroundcolor\":\"#E5ECF6\",\"gridcolor\":\"white\",\"linecolor\":\"white\",\"showbackground\":true,\"ticks\":\"\",\"zerolinecolor\":\"white\",\"gridwidth\":2},\"zaxis\":{\"backgroundcolor\":\"#E5ECF6\",\"gridcolor\":\"white\",\"linecolor\":\"white\",\"showbackground\":true,\"ticks\":\"\",\"zerolinecolor\":\"white\",\"gridwidth\":2}},\"shapedefaults\":{\"line\":{\"color\":\"#2a3f5f\"}},\"annotationdefaults\":{\"arrowcolor\":\"#2a3f5f\",\"arrowhead\":0,\"arrowwidth\":1},\"geo\":{\"bgcolor\":\"white\",\"landcolor\":\"#E5ECF6\",\"subunitcolor\":\"white\",\"showland\":true,\"showlakes\":true,\"lakecolor\":\"white\"},\"title\":{\"x\":0.05},\"mapbox\":{\"style\":\"light\"}}},\"legend\":{\"tracegroupgap\":0},\"title\":{\"text\":\"Status Distribution\"},\"piecolorway\":[\"rgb(0,68,27)\",\"rgb(35,139,69)\",\"rgb(116,196,118)\",\"rgb(199,233,192)\",\"rgb(247,252,245)\"]},                        {\"responsive\": true}                    ).then(function(){\n",
              "                            \n",
              "var gd = document.getElementById('a5758a97-4505-48ec-b3f0-c458eedf4b93');\n",
              "var x = new MutationObserver(function (mutations, observer) {{\n",
              "        var display = window.getComputedStyle(gd).display;\n",
              "        if (!display || display === 'none') {{\n",
              "            console.log([gd, 'removed!']);\n",
              "            Plotly.purge(gd);\n",
              "            observer.disconnect();\n",
              "        }}\n",
              "}});\n",
              "\n",
              "// Listen for the removal of the full notebook cells\n",
              "var notebookContainer = gd.closest('#notebook-container');\n",
              "if (notebookContainer) {{\n",
              "    x.observe(notebookContainer, {childList: true});\n",
              "}}\n",
              "\n",
              "// Listen for the clearing of the current output cell\n",
              "var outputEl = gd.closest('.output');\n",
              "if (outputEl) {{\n",
              "    x.observe(outputEl, {childList: true});\n",
              "}}\n",
              "\n",
              "                        })                };                            </script>        </div>\n",
              "</body>\n",
              "</html>"
            ]
          },
          "metadata": {}
        }
      ]
    },
    {
      "cell_type": "markdown",
      "source": [
        "### **User count over time:**"
      ],
      "metadata": {
        "id": "2DnkvqSZx9oh"
      }
    },
    {
      "cell_type": "code",
      "source": [
        "df_optin['date'] = df_optin['receive_time'].dt.to_period('M')\n",
        "\n",
        "monthly_activity = df_optin.groupby('date').size().reset_index(name='counts')\n",
        "\n",
        "monthly_activity['date'] = monthly_activity['date'].astype(str)\n",
        "\n",
        "fig = px.area(monthly_activity, x='date', y='counts', color_discrete_sequence=px.colors.sequential.RdPu_r[::2])\n",
        "fig.show()"
      ],
      "metadata": {
        "colab": {
          "base_uri": "https://localhost:8080/",
          "height": 542
        },
        "id": "Qp-PVX0f7Rwa",
        "outputId": "00356271-adfd-40c5-c917-a39b2fa23bf4"
      },
      "execution_count": 7,
      "outputs": [
        {
          "output_type": "display_data",
          "data": {
            "text/html": [
              "<html>\n",
              "<head><meta charset=\"utf-8\" /></head>\n",
              "<body>\n",
              "    <div>            <script src=\"https://cdnjs.cloudflare.com/ajax/libs/mathjax/2.7.5/MathJax.js?config=TeX-AMS-MML_SVG\"></script><script type=\"text/javascript\">if (window.MathJax && window.MathJax.Hub && window.MathJax.Hub.Config) {window.MathJax.Hub.Config({SVG: {font: \"STIX-Web\"}});}</script>                <script type=\"text/javascript\">window.PlotlyConfig = {MathJaxConfig: 'local'};</script>\n",
              "        <script charset=\"utf-8\" src=\"https://cdn.plot.ly/plotly-2.35.2.min.js\"></script>                <div id=\"2c05510f-226e-40a2-8c19-5e4548adcbc5\" class=\"plotly-graph-div\" style=\"height:525px; width:100%;\"></div>            <script type=\"text/javascript\">                                    window.PLOTLYENV=window.PLOTLYENV || {};                                    if (document.getElementById(\"2c05510f-226e-40a2-8c19-5e4548adcbc5\")) {                    Plotly.newPlot(                        \"2c05510f-226e-40a2-8c19-5e4548adcbc5\",                        [{\"fillpattern\":{\"shape\":\"\"},\"hovertemplate\":\"date=%{x}\\u003cbr\\u003ecounts=%{y}\\u003cextra\\u003e\\u003c\\u002fextra\\u003e\",\"legendgroup\":\"\",\"line\":{\"color\":\"rgb(73,0,106)\"},\"marker\":{\"symbol\":\"circle\"},\"mode\":\"lines\",\"name\":\"\",\"orientation\":\"v\",\"showlegend\":false,\"stackgroup\":\"1\",\"x\":[\"2019-08\",\"2019-09\",\"2019-10\",\"2019-11\",\"2019-12\",\"2020-01\",\"2020-02\",\"2020-03\",\"2020-04\",\"2020-05\",\"2020-06\",\"2020-07\",\"2020-08\",\"2020-09\",\"2020-10\",\"2020-11\"],\"xaxis\":\"x\",\"y\":[4666,36879,41170,21956,12118,24069,23507,17694,26712,34675,34659,42600,32599,70437,75395,17194],\"yaxis\":\"y\",\"type\":\"scatter\"}],                        {\"template\":{\"data\":{\"histogram2dcontour\":[{\"type\":\"histogram2dcontour\",\"colorbar\":{\"outlinewidth\":0,\"ticks\":\"\"},\"colorscale\":[[0.0,\"#0d0887\"],[0.1111111111111111,\"#46039f\"],[0.2222222222222222,\"#7201a8\"],[0.3333333333333333,\"#9c179e\"],[0.4444444444444444,\"#bd3786\"],[0.5555555555555556,\"#d8576b\"],[0.6666666666666666,\"#ed7953\"],[0.7777777777777778,\"#fb9f3a\"],[0.8888888888888888,\"#fdca26\"],[1.0,\"#f0f921\"]]}],\"choropleth\":[{\"type\":\"choropleth\",\"colorbar\":{\"outlinewidth\":0,\"ticks\":\"\"}}],\"histogram2d\":[{\"type\":\"histogram2d\",\"colorbar\":{\"outlinewidth\":0,\"ticks\":\"\"},\"colorscale\":[[0.0,\"#0d0887\"],[0.1111111111111111,\"#46039f\"],[0.2222222222222222,\"#7201a8\"],[0.3333333333333333,\"#9c179e\"],[0.4444444444444444,\"#bd3786\"],[0.5555555555555556,\"#d8576b\"],[0.6666666666666666,\"#ed7953\"],[0.7777777777777778,\"#fb9f3a\"],[0.8888888888888888,\"#fdca26\"],[1.0,\"#f0f921\"]]}],\"heatmap\":[{\"type\":\"heatmap\",\"colorbar\":{\"outlinewidth\":0,\"ticks\":\"\"},\"colorscale\":[[0.0,\"#0d0887\"],[0.1111111111111111,\"#46039f\"],[0.2222222222222222,\"#7201a8\"],[0.3333333333333333,\"#9c179e\"],[0.4444444444444444,\"#bd3786\"],[0.5555555555555556,\"#d8576b\"],[0.6666666666666666,\"#ed7953\"],[0.7777777777777778,\"#fb9f3a\"],[0.8888888888888888,\"#fdca26\"],[1.0,\"#f0f921\"]]}],\"heatmapgl\":[{\"type\":\"heatmapgl\",\"colorbar\":{\"outlinewidth\":0,\"ticks\":\"\"},\"colorscale\":[[0.0,\"#0d0887\"],[0.1111111111111111,\"#46039f\"],[0.2222222222222222,\"#7201a8\"],[0.3333333333333333,\"#9c179e\"],[0.4444444444444444,\"#bd3786\"],[0.5555555555555556,\"#d8576b\"],[0.6666666666666666,\"#ed7953\"],[0.7777777777777778,\"#fb9f3a\"],[0.8888888888888888,\"#fdca26\"],[1.0,\"#f0f921\"]]}],\"contourcarpet\":[{\"type\":\"contourcarpet\",\"colorbar\":{\"outlinewidth\":0,\"ticks\":\"\"}}],\"contour\":[{\"type\":\"contour\",\"colorbar\":{\"outlinewidth\":0,\"ticks\":\"\"},\"colorscale\":[[0.0,\"#0d0887\"],[0.1111111111111111,\"#46039f\"],[0.2222222222222222,\"#7201a8\"],[0.3333333333333333,\"#9c179e\"],[0.4444444444444444,\"#bd3786\"],[0.5555555555555556,\"#d8576b\"],[0.6666666666666666,\"#ed7953\"],[0.7777777777777778,\"#fb9f3a\"],[0.8888888888888888,\"#fdca26\"],[1.0,\"#f0f921\"]]}],\"surface\":[{\"type\":\"surface\",\"colorbar\":{\"outlinewidth\":0,\"ticks\":\"\"},\"colorscale\":[[0.0,\"#0d0887\"],[0.1111111111111111,\"#46039f\"],[0.2222222222222222,\"#7201a8\"],[0.3333333333333333,\"#9c179e\"],[0.4444444444444444,\"#bd3786\"],[0.5555555555555556,\"#d8576b\"],[0.6666666666666666,\"#ed7953\"],[0.7777777777777778,\"#fb9f3a\"],[0.8888888888888888,\"#fdca26\"],[1.0,\"#f0f921\"]]}],\"mesh3d\":[{\"type\":\"mesh3d\",\"colorbar\":{\"outlinewidth\":0,\"ticks\":\"\"}}],\"scatter\":[{\"fillpattern\":{\"fillmode\":\"overlay\",\"size\":10,\"solidity\":0.2},\"type\":\"scatter\"}],\"parcoords\":[{\"type\":\"parcoords\",\"line\":{\"colorbar\":{\"outlinewidth\":0,\"ticks\":\"\"}}}],\"scatterpolargl\":[{\"type\":\"scatterpolargl\",\"marker\":{\"colorbar\":{\"outlinewidth\":0,\"ticks\":\"\"}}}],\"bar\":[{\"error_x\":{\"color\":\"#2a3f5f\"},\"error_y\":{\"color\":\"#2a3f5f\"},\"marker\":{\"line\":{\"color\":\"#E5ECF6\",\"width\":0.5},\"pattern\":{\"fillmode\":\"overlay\",\"size\":10,\"solidity\":0.2}},\"type\":\"bar\"}],\"scattergeo\":[{\"type\":\"scattergeo\",\"marker\":{\"colorbar\":{\"outlinewidth\":0,\"ticks\":\"\"}}}],\"scatterpolar\":[{\"type\":\"scatterpolar\",\"marker\":{\"colorbar\":{\"outlinewidth\":0,\"ticks\":\"\"}}}],\"histogram\":[{\"marker\":{\"pattern\":{\"fillmode\":\"overlay\",\"size\":10,\"solidity\":0.2}},\"type\":\"histogram\"}],\"scattergl\":[{\"type\":\"scattergl\",\"marker\":{\"colorbar\":{\"outlinewidth\":0,\"ticks\":\"\"}}}],\"scatter3d\":[{\"type\":\"scatter3d\",\"line\":{\"colorbar\":{\"outlinewidth\":0,\"ticks\":\"\"}},\"marker\":{\"colorbar\":{\"outlinewidth\":0,\"ticks\":\"\"}}}],\"scattermapbox\":[{\"type\":\"scattermapbox\",\"marker\":{\"colorbar\":{\"outlinewidth\":0,\"ticks\":\"\"}}}],\"scatterternary\":[{\"type\":\"scatterternary\",\"marker\":{\"colorbar\":{\"outlinewidth\":0,\"ticks\":\"\"}}}],\"scattercarpet\":[{\"type\":\"scattercarpet\",\"marker\":{\"colorbar\":{\"outlinewidth\":0,\"ticks\":\"\"}}}],\"carpet\":[{\"aaxis\":{\"endlinecolor\":\"#2a3f5f\",\"gridcolor\":\"white\",\"linecolor\":\"white\",\"minorgridcolor\":\"white\",\"startlinecolor\":\"#2a3f5f\"},\"baxis\":{\"endlinecolor\":\"#2a3f5f\",\"gridcolor\":\"white\",\"linecolor\":\"white\",\"minorgridcolor\":\"white\",\"startlinecolor\":\"#2a3f5f\"},\"type\":\"carpet\"}],\"table\":[{\"cells\":{\"fill\":{\"color\":\"#EBF0F8\"},\"line\":{\"color\":\"white\"}},\"header\":{\"fill\":{\"color\":\"#C8D4E3\"},\"line\":{\"color\":\"white\"}},\"type\":\"table\"}],\"barpolar\":[{\"marker\":{\"line\":{\"color\":\"#E5ECF6\",\"width\":0.5},\"pattern\":{\"fillmode\":\"overlay\",\"size\":10,\"solidity\":0.2}},\"type\":\"barpolar\"}],\"pie\":[{\"automargin\":true,\"type\":\"pie\"}]},\"layout\":{\"autotypenumbers\":\"strict\",\"colorway\":[\"#636efa\",\"#EF553B\",\"#00cc96\",\"#ab63fa\",\"#FFA15A\",\"#19d3f3\",\"#FF6692\",\"#B6E880\",\"#FF97FF\",\"#FECB52\"],\"font\":{\"color\":\"#2a3f5f\"},\"hovermode\":\"closest\",\"hoverlabel\":{\"align\":\"left\"},\"paper_bgcolor\":\"white\",\"plot_bgcolor\":\"#E5ECF6\",\"polar\":{\"bgcolor\":\"#E5ECF6\",\"angularaxis\":{\"gridcolor\":\"white\",\"linecolor\":\"white\",\"ticks\":\"\"},\"radialaxis\":{\"gridcolor\":\"white\",\"linecolor\":\"white\",\"ticks\":\"\"}},\"ternary\":{\"bgcolor\":\"#E5ECF6\",\"aaxis\":{\"gridcolor\":\"white\",\"linecolor\":\"white\",\"ticks\":\"\"},\"baxis\":{\"gridcolor\":\"white\",\"linecolor\":\"white\",\"ticks\":\"\"},\"caxis\":{\"gridcolor\":\"white\",\"linecolor\":\"white\",\"ticks\":\"\"}},\"coloraxis\":{\"colorbar\":{\"outlinewidth\":0,\"ticks\":\"\"}},\"colorscale\":{\"sequential\":[[0.0,\"#0d0887\"],[0.1111111111111111,\"#46039f\"],[0.2222222222222222,\"#7201a8\"],[0.3333333333333333,\"#9c179e\"],[0.4444444444444444,\"#bd3786\"],[0.5555555555555556,\"#d8576b\"],[0.6666666666666666,\"#ed7953\"],[0.7777777777777778,\"#fb9f3a\"],[0.8888888888888888,\"#fdca26\"],[1.0,\"#f0f921\"]],\"sequentialminus\":[[0.0,\"#0d0887\"],[0.1111111111111111,\"#46039f\"],[0.2222222222222222,\"#7201a8\"],[0.3333333333333333,\"#9c179e\"],[0.4444444444444444,\"#bd3786\"],[0.5555555555555556,\"#d8576b\"],[0.6666666666666666,\"#ed7953\"],[0.7777777777777778,\"#fb9f3a\"],[0.8888888888888888,\"#fdca26\"],[1.0,\"#f0f921\"]],\"diverging\":[[0,\"#8e0152\"],[0.1,\"#c51b7d\"],[0.2,\"#de77ae\"],[0.3,\"#f1b6da\"],[0.4,\"#fde0ef\"],[0.5,\"#f7f7f7\"],[0.6,\"#e6f5d0\"],[0.7,\"#b8e186\"],[0.8,\"#7fbc41\"],[0.9,\"#4d9221\"],[1,\"#276419\"]]},\"xaxis\":{\"gridcolor\":\"white\",\"linecolor\":\"white\",\"ticks\":\"\",\"title\":{\"standoff\":15},\"zerolinecolor\":\"white\",\"automargin\":true,\"zerolinewidth\":2},\"yaxis\":{\"gridcolor\":\"white\",\"linecolor\":\"white\",\"ticks\":\"\",\"title\":{\"standoff\":15},\"zerolinecolor\":\"white\",\"automargin\":true,\"zerolinewidth\":2},\"scene\":{\"xaxis\":{\"backgroundcolor\":\"#E5ECF6\",\"gridcolor\":\"white\",\"linecolor\":\"white\",\"showbackground\":true,\"ticks\":\"\",\"zerolinecolor\":\"white\",\"gridwidth\":2},\"yaxis\":{\"backgroundcolor\":\"#E5ECF6\",\"gridcolor\":\"white\",\"linecolor\":\"white\",\"showbackground\":true,\"ticks\":\"\",\"zerolinecolor\":\"white\",\"gridwidth\":2},\"zaxis\":{\"backgroundcolor\":\"#E5ECF6\",\"gridcolor\":\"white\",\"linecolor\":\"white\",\"showbackground\":true,\"ticks\":\"\",\"zerolinecolor\":\"white\",\"gridwidth\":2}},\"shapedefaults\":{\"line\":{\"color\":\"#2a3f5f\"}},\"annotationdefaults\":{\"arrowcolor\":\"#2a3f5f\",\"arrowhead\":0,\"arrowwidth\":1},\"geo\":{\"bgcolor\":\"white\",\"landcolor\":\"#E5ECF6\",\"subunitcolor\":\"white\",\"showland\":true,\"showlakes\":true,\"lakecolor\":\"white\"},\"title\":{\"x\":0.05},\"mapbox\":{\"style\":\"light\"}}},\"xaxis\":{\"anchor\":\"y\",\"domain\":[0.0,1.0],\"title\":{\"text\":\"date\"}},\"yaxis\":{\"anchor\":\"x\",\"domain\":[0.0,1.0],\"title\":{\"text\":\"counts\"}},\"legend\":{\"tracegroupgap\":0},\"margin\":{\"t\":60}},                        {\"responsive\": true}                    ).then(function(){\n",
              "                            \n",
              "var gd = document.getElementById('2c05510f-226e-40a2-8c19-5e4548adcbc5');\n",
              "var x = new MutationObserver(function (mutations, observer) {{\n",
              "        var display = window.getComputedStyle(gd).display;\n",
              "        if (!display || display === 'none') {{\n",
              "            console.log([gd, 'removed!']);\n",
              "            Plotly.purge(gd);\n",
              "            observer.disconnect();\n",
              "        }}\n",
              "}});\n",
              "\n",
              "// Listen for the removal of the full notebook cells\n",
              "var notebookContainer = gd.closest('#notebook-container');\n",
              "if (notebookContainer) {{\n",
              "    x.observe(notebookContainer, {childList: true});\n",
              "}}\n",
              "\n",
              "// Listen for the clearing of the current output cell\n",
              "var outputEl = gd.closest('.output');\n",
              "if (outputEl) {{\n",
              "    x.observe(outputEl, {childList: true});\n",
              "}}\n",
              "\n",
              "                        })                };                            </script>        </div>\n",
              "</body>\n",
              "</html>"
            ]
          },
          "metadata": {}
        }
      ]
    },
    {
      "cell_type": "markdown",
      "source": [
        "## **4. Preprocessing for Machine Learning:**"
      ],
      "metadata": {
        "id": "P65RapnH1cRp"
      }
    },
    {
      "cell_type": "markdown",
      "source": [
        "### **Model Strategy:**\n",
        "\n",
        "\n",
        "####**Machine Learning Approach: Predicting Candidate Success**\n",
        "\n",
        "This classification model aims to predict whether a candidate is likely to be approved based on historical data. Key points include:\n",
        "\n",
        "**1. Multiple Status Updates:** Each candidate can have several entries in the Candidate table due to repeated evaluations, leading to various status updates like \"approved\" or \"declined.\"\n",
        "\n",
        "**2. Status Counting:** We count the occurrences of \"approved\" and \"declined\" statuses for each candidate to better understand their overall history.\n",
        "\n",
        "**3. Approval Ratio:** This is calculated as the proportion of approvals to total evaluations. For example, a candidate with 3 approvals and 1 decline has an approval ratio of 0.75.\n",
        "\n",
        "**4. Label Smoothing:** Instead of using strict labels (0 for declined and 1 for approved), we apply label smoothing to create a flexible labeling system. This maps the approval ratio to a range of [0.1, 0.9], reducing the risk of overfitting and improving the model's ability to handle uncertainties.\n",
        "\n",
        "**5. Thresholds for Final Status:** Candidates with a smoothed label of 0.8 or higher are classified as \"approved,\" while those with a label of 0.2 or lower are classified as \"declined.\" Candidates in between are labeled as \"neutral\" and excluded from further analysis. This approach ensures that we only include candidates with strong evidence of approval or disapproval.\n",
        "\n",
        "\n"
      ],
      "metadata": {
        "id": "ZLQO3_y1624w"
      }
    },
    {
      "cell_type": "code",
      "source": [
        "# Group by 'user_id' and count occurrences of each 'status_update'\n",
        "counts = df_candidate.groupby('user_id')['status_update'].value_counts().unstack(fill_value=0)\n",
        "\n",
        "# Map the count of 'approved' and 'declined' status to each 'user_id' in the df_candidate DataFrame\n",
        "df_candidate['ApprovedCount'] = df_candidate['user_id'].map(counts['approved'])\n",
        "df_candidate['DeclinedCount'] = df_candidate['user_id'].map(counts['declined'])\n",
        "\n",
        "# Approval ratio\n",
        "df_candidate['approval_ratio'] = df_candidate['ApprovedCount'] / (df_candidate['ApprovedCount'] + df_candidate['DeclinedCount'])\n",
        "\n",
        "# Smoothing factor for label smoothing\n",
        "label_smoothing_factor = 0.1\n",
        "\n",
        "# Label smoothing, the smoothed labels are within the range [0.1, 0.9]\n",
        "df_candidate['smoothed_label'] = df_candidate['approval_ratio'] * (1 - 2 * label_smoothing_factor) + label_smoothing_factor\n",
        "\n",
        "# NaNs for rows with 0 approvals and 0 rejections\n",
        "df_candidate['smoothed_label'] = df_candidate['smoothed_label'].fillna(0.5)\n",
        "\n",
        "# Thresholds for labeling approved and declined\n",
        "approval_threshold = 0.8\n",
        "decline_threshold = 0.2\n",
        "\n",
        "# New column 'final_status' to label approved/declined/neutral\n",
        "df_candidate['final_status'] = np.where(\n",
        "    df_candidate['smoothed_label'] >= approval_threshold, 'approved',\n",
        "    np.where(df_candidate['smoothed_label'] <= decline_threshold, 'declined', 'neutral')\n",
        ")\n",
        "# Filter only the records with 'approved' or 'declined' in 'final_status'\n",
        "df_candidate = df_candidate[df_candidate['final_status'].isin(['approved', 'declined'])]\n",
        "\n"
      ],
      "metadata": {
        "id": "ok-03TCstm2C"
      },
      "execution_count": 8,
      "outputs": []
    },
    {
      "cell_type": "code",
      "source": [
        "df_candidate['final_status'].value_counts()"
      ],
      "metadata": {
        "colab": {
          "base_uri": "https://localhost:8080/",
          "height": 178
        },
        "id": "TKo1V20Rt-1J",
        "outputId": "b157648c-6af3-42d5-bb95-2fa4b52ee795"
      },
      "execution_count": 9,
      "outputs": [
        {
          "output_type": "execute_result",
          "data": {
            "text/plain": [
              "final_status\n",
              "declined    2123\n",
              "approved    1914\n",
              "Name: count, dtype: int64"
            ],
            "text/html": [
              "<div>\n",
              "<style scoped>\n",
              "    .dataframe tbody tr th:only-of-type {\n",
              "        vertical-align: middle;\n",
              "    }\n",
              "\n",
              "    .dataframe tbody tr th {\n",
              "        vertical-align: top;\n",
              "    }\n",
              "\n",
              "    .dataframe thead th {\n",
              "        text-align: right;\n",
              "    }\n",
              "</style>\n",
              "<table border=\"1\" class=\"dataframe\">\n",
              "  <thead>\n",
              "    <tr style=\"text-align: right;\">\n",
              "      <th></th>\n",
              "      <th>count</th>\n",
              "    </tr>\n",
              "    <tr>\n",
              "      <th>final_status</th>\n",
              "      <th></th>\n",
              "    </tr>\n",
              "  </thead>\n",
              "  <tbody>\n",
              "    <tr>\n",
              "      <th>declined</th>\n",
              "      <td>2123</td>\n",
              "    </tr>\n",
              "    <tr>\n",
              "      <th>approved</th>\n",
              "      <td>1914</td>\n",
              "    </tr>\n",
              "  </tbody>\n",
              "</table>\n",
              "</div><br><label><b>dtype:</b> int64</label>"
            ]
          },
          "metadata": {},
          "execution_count": 9
        }
      ]
    },
    {
      "cell_type": "markdown",
      "source": [
        "### **Feature Selection and Engineering:**"
      ],
      "metadata": {
        "id": "enzzgCZbXtZA"
      }
    },
    {
      "cell_type": "code",
      "source": [
        "df_features = df_optin.groupby('user_id').agg(\n",
        "    total_actions=('user_id', 'size'),  # Total actions per user_id\n",
        "    first_action=('receive_time', 'min'),  # Date of the first action\n",
        "    last_action=('receive_time', 'max'),  # Date of the last action\n",
        "    active_actions=('active', lambda x: (x == True).sum()),  # Total active actions\n",
        "    manual_actions=('cause', lambda x: (x == 'manual').sum()),  # Total manual actions\n",
        "    auto_actions=('cause', lambda x: (x == 'auto-no answer').sum())  # Total automatic actions\n",
        ").reset_index()\n",
        "\n",
        "# Days between the first and last action\n",
        "df_features['days_between_actions'] = (df_features['last_action'] - df_features['first_action']).dt.days\n",
        "\n",
        "# Percentage of active actions\n",
        "df_features['percentage_active_actions'] = df_features['active_actions'] / df_features['total_actions']\n",
        "\n",
        "# Percentage of manual and automatic actions\n",
        "df_features['percentage_manual_actions'] = df_features['manual_actions'] / df_features['total_actions']\n",
        "df_features['percentage_auto_actions'] = df_features['auto_actions'] / df_features['total_actions']\n",
        "\n",
        "# Merge with user_id and school_id to facilitate joining with the school table in subsequent operations\n",
        "df_features= df_features.merge(df_optin[['user_id', 'school_id']].drop_duplicates(), on='user_id', how='left')"
      ],
      "metadata": {
        "id": "DWoz5LmlXszf"
      },
      "execution_count": 10,
      "outputs": []
    },
    {
      "cell_type": "code",
      "source": [
        "# Table with features, candidate table, and school table\n",
        "df_final = df_features.merge(df_school, on='school_id', how='left')\n",
        "df_final = df_candidate.merge(df_final, on='user_id', how='left')"
      ],
      "metadata": {
        "id": "9ra7mZ1Vm866"
      },
      "execution_count": 11,
      "outputs": []
    },
    {
      "cell_type": "code",
      "source": [
        "df_final = df_final[['total_actions','days_between_actions','percentage_active_actions',\n",
        "                     'percentage_manual_actions','percentage_auto_actions','is_cc','jt_school_type',\n",
        "                     'jt_country','final_status']]"
      ],
      "metadata": {
        "id": "7_037JgmxYvh"
      },
      "execution_count": 12,
      "outputs": []
    },
    {
      "cell_type": "code",
      "source": [
        "df_final = df_final.dropna()\n",
        "\n",
        "# Encoding countries\n",
        "le = LabelEncoder()\n",
        "df_final['jt_country'] = le.fit_transform(df_final['jt_country'])\n",
        "\n",
        "# 'is_cc' to integer type\n",
        "df_final.loc[:, 'is_cc'] = df_final['is_cc'].astype(int)\n",
        "\n",
        "df_final\n"
      ],
      "metadata": {
        "colab": {
          "base_uri": "https://localhost:8080/",
          "height": 424
        },
        "id": "Ts4W_qYxXhN_",
        "outputId": "3ed59dd0-ef57-440d-cd8a-ee8ea51e1a60"
      },
      "execution_count": 13,
      "outputs": [
        {
          "output_type": "execute_result",
          "data": {
            "text/plain": [
              "      total_actions  days_between_actions  percentage_active_actions  \\\n",
              "0               3.0                 141.0                   0.666667   \n",
              "1               3.0                 184.0                   0.666667   \n",
              "2               5.0                 216.0                   0.600000   \n",
              "3               7.0                 107.0                   0.571429   \n",
              "4               3.0                 141.0                   0.666667   \n",
              "...             ...                   ...                        ...   \n",
              "4032            9.0                 229.0                   0.555556   \n",
              "4033            3.0                  93.0                   0.666667   \n",
              "4034            8.0                 254.0                   0.500000   \n",
              "4035            5.0                 269.0                   0.600000   \n",
              "4036            5.0                 269.0                   0.600000   \n",
              "\n",
              "      percentage_manual_actions  percentage_auto_actions is_cc  \\\n",
              "0                      0.666667                      0.0     1   \n",
              "1                      0.666667                      0.0     1   \n",
              "2                      1.000000                      0.0     0   \n",
              "3                      0.857143                      0.0     1   \n",
              "4                      0.666667                      0.0     1   \n",
              "...                         ...                      ...   ...   \n",
              "4032                   0.555556                      0.0     1   \n",
              "4033                   0.666667                      0.0     1   \n",
              "4034                   0.875000                      0.0     1   \n",
              "4035                   0.600000                      0.0     1   \n",
              "4036                   0.600000                      0.0     1   \n",
              "\n",
              "      jt_school_type  jt_country final_status  \n",
              "0                2.0           3     approved  \n",
              "1                3.0           3     approved  \n",
              "2                2.0           3     approved  \n",
              "3                3.0           4     approved  \n",
              "4                2.0           3     approved  \n",
              "...              ...         ...          ...  \n",
              "4032             2.0           9     declined  \n",
              "4033             2.0           9     declined  \n",
              "4034             2.0           9     declined  \n",
              "4035             2.0           9     approved  \n",
              "4036             2.0           9     approved  \n",
              "\n",
              "[4035 rows x 9 columns]"
            ],
            "text/html": [
              "\n",
              "  <div id=\"df-77041615-4117-44de-ba9d-7f80fbb2df48\" class=\"colab-df-container\">\n",
              "    <div>\n",
              "<style scoped>\n",
              "    .dataframe tbody tr th:only-of-type {\n",
              "        vertical-align: middle;\n",
              "    }\n",
              "\n",
              "    .dataframe tbody tr th {\n",
              "        vertical-align: top;\n",
              "    }\n",
              "\n",
              "    .dataframe thead th {\n",
              "        text-align: right;\n",
              "    }\n",
              "</style>\n",
              "<table border=\"1\" class=\"dataframe\">\n",
              "  <thead>\n",
              "    <tr style=\"text-align: right;\">\n",
              "      <th></th>\n",
              "      <th>total_actions</th>\n",
              "      <th>days_between_actions</th>\n",
              "      <th>percentage_active_actions</th>\n",
              "      <th>percentage_manual_actions</th>\n",
              "      <th>percentage_auto_actions</th>\n",
              "      <th>is_cc</th>\n",
              "      <th>jt_school_type</th>\n",
              "      <th>jt_country</th>\n",
              "      <th>final_status</th>\n",
              "    </tr>\n",
              "  </thead>\n",
              "  <tbody>\n",
              "    <tr>\n",
              "      <th>0</th>\n",
              "      <td>3.0</td>\n",
              "      <td>141.0</td>\n",
              "      <td>0.666667</td>\n",
              "      <td>0.666667</td>\n",
              "      <td>0.0</td>\n",
              "      <td>1</td>\n",
              "      <td>2.0</td>\n",
              "      <td>3</td>\n",
              "      <td>approved</td>\n",
              "    </tr>\n",
              "    <tr>\n",
              "      <th>1</th>\n",
              "      <td>3.0</td>\n",
              "      <td>184.0</td>\n",
              "      <td>0.666667</td>\n",
              "      <td>0.666667</td>\n",
              "      <td>0.0</td>\n",
              "      <td>1</td>\n",
              "      <td>3.0</td>\n",
              "      <td>3</td>\n",
              "      <td>approved</td>\n",
              "    </tr>\n",
              "    <tr>\n",
              "      <th>2</th>\n",
              "      <td>5.0</td>\n",
              "      <td>216.0</td>\n",
              "      <td>0.600000</td>\n",
              "      <td>1.000000</td>\n",
              "      <td>0.0</td>\n",
              "      <td>0</td>\n",
              "      <td>2.0</td>\n",
              "      <td>3</td>\n",
              "      <td>approved</td>\n",
              "    </tr>\n",
              "    <tr>\n",
              "      <th>3</th>\n",
              "      <td>7.0</td>\n",
              "      <td>107.0</td>\n",
              "      <td>0.571429</td>\n",
              "      <td>0.857143</td>\n",
              "      <td>0.0</td>\n",
              "      <td>1</td>\n",
              "      <td>3.0</td>\n",
              "      <td>4</td>\n",
              "      <td>approved</td>\n",
              "    </tr>\n",
              "    <tr>\n",
              "      <th>4</th>\n",
              "      <td>3.0</td>\n",
              "      <td>141.0</td>\n",
              "      <td>0.666667</td>\n",
              "      <td>0.666667</td>\n",
              "      <td>0.0</td>\n",
              "      <td>1</td>\n",
              "      <td>2.0</td>\n",
              "      <td>3</td>\n",
              "      <td>approved</td>\n",
              "    </tr>\n",
              "    <tr>\n",
              "      <th>...</th>\n",
              "      <td>...</td>\n",
              "      <td>...</td>\n",
              "      <td>...</td>\n",
              "      <td>...</td>\n",
              "      <td>...</td>\n",
              "      <td>...</td>\n",
              "      <td>...</td>\n",
              "      <td>...</td>\n",
              "      <td>...</td>\n",
              "    </tr>\n",
              "    <tr>\n",
              "      <th>4032</th>\n",
              "      <td>9.0</td>\n",
              "      <td>229.0</td>\n",
              "      <td>0.555556</td>\n",
              "      <td>0.555556</td>\n",
              "      <td>0.0</td>\n",
              "      <td>1</td>\n",
              "      <td>2.0</td>\n",
              "      <td>9</td>\n",
              "      <td>declined</td>\n",
              "    </tr>\n",
              "    <tr>\n",
              "      <th>4033</th>\n",
              "      <td>3.0</td>\n",
              "      <td>93.0</td>\n",
              "      <td>0.666667</td>\n",
              "      <td>0.666667</td>\n",
              "      <td>0.0</td>\n",
              "      <td>1</td>\n",
              "      <td>2.0</td>\n",
              "      <td>9</td>\n",
              "      <td>declined</td>\n",
              "    </tr>\n",
              "    <tr>\n",
              "      <th>4034</th>\n",
              "      <td>8.0</td>\n",
              "      <td>254.0</td>\n",
              "      <td>0.500000</td>\n",
              "      <td>0.875000</td>\n",
              "      <td>0.0</td>\n",
              "      <td>1</td>\n",
              "      <td>2.0</td>\n",
              "      <td>9</td>\n",
              "      <td>declined</td>\n",
              "    </tr>\n",
              "    <tr>\n",
              "      <th>4035</th>\n",
              "      <td>5.0</td>\n",
              "      <td>269.0</td>\n",
              "      <td>0.600000</td>\n",
              "      <td>0.600000</td>\n",
              "      <td>0.0</td>\n",
              "      <td>1</td>\n",
              "      <td>2.0</td>\n",
              "      <td>9</td>\n",
              "      <td>approved</td>\n",
              "    </tr>\n",
              "    <tr>\n",
              "      <th>4036</th>\n",
              "      <td>5.0</td>\n",
              "      <td>269.0</td>\n",
              "      <td>0.600000</td>\n",
              "      <td>0.600000</td>\n",
              "      <td>0.0</td>\n",
              "      <td>1</td>\n",
              "      <td>2.0</td>\n",
              "      <td>9</td>\n",
              "      <td>approved</td>\n",
              "    </tr>\n",
              "  </tbody>\n",
              "</table>\n",
              "<p>4035 rows × 9 columns</p>\n",
              "</div>\n",
              "    <div class=\"colab-df-buttons\">\n",
              "\n",
              "  <div class=\"colab-df-container\">\n",
              "    <button class=\"colab-df-convert\" onclick=\"convertToInteractive('df-77041615-4117-44de-ba9d-7f80fbb2df48')\"\n",
              "            title=\"Convert this dataframe to an interactive table.\"\n",
              "            style=\"display:none;\">\n",
              "\n",
              "  <svg xmlns=\"http://www.w3.org/2000/svg\" height=\"24px\" viewBox=\"0 -960 960 960\">\n",
              "    <path d=\"M120-120v-720h720v720H120Zm60-500h600v-160H180v160Zm220 220h160v-160H400v160Zm0 220h160v-160H400v160ZM180-400h160v-160H180v160Zm440 0h160v-160H620v160ZM180-180h160v-160H180v160Zm440 0h160v-160H620v160Z\"/>\n",
              "  </svg>\n",
              "    </button>\n",
              "\n",
              "  <style>\n",
              "    .colab-df-container {\n",
              "      display:flex;\n",
              "      gap: 12px;\n",
              "    }\n",
              "\n",
              "    .colab-df-convert {\n",
              "      background-color: #E8F0FE;\n",
              "      border: none;\n",
              "      border-radius: 50%;\n",
              "      cursor: pointer;\n",
              "      display: none;\n",
              "      fill: #1967D2;\n",
              "      height: 32px;\n",
              "      padding: 0 0 0 0;\n",
              "      width: 32px;\n",
              "    }\n",
              "\n",
              "    .colab-df-convert:hover {\n",
              "      background-color: #E2EBFA;\n",
              "      box-shadow: 0px 1px 2px rgba(60, 64, 67, 0.3), 0px 1px 3px 1px rgba(60, 64, 67, 0.15);\n",
              "      fill: #174EA6;\n",
              "    }\n",
              "\n",
              "    .colab-df-buttons div {\n",
              "      margin-bottom: 4px;\n",
              "    }\n",
              "\n",
              "    [theme=dark] .colab-df-convert {\n",
              "      background-color: #3B4455;\n",
              "      fill: #D2E3FC;\n",
              "    }\n",
              "\n",
              "    [theme=dark] .colab-df-convert:hover {\n",
              "      background-color: #434B5C;\n",
              "      box-shadow: 0px 1px 3px 1px rgba(0, 0, 0, 0.15);\n",
              "      filter: drop-shadow(0px 1px 2px rgba(0, 0, 0, 0.3));\n",
              "      fill: #FFFFFF;\n",
              "    }\n",
              "  </style>\n",
              "\n",
              "    <script>\n",
              "      const buttonEl =\n",
              "        document.querySelector('#df-77041615-4117-44de-ba9d-7f80fbb2df48 button.colab-df-convert');\n",
              "      buttonEl.style.display =\n",
              "        google.colab.kernel.accessAllowed ? 'block' : 'none';\n",
              "\n",
              "      async function convertToInteractive(key) {\n",
              "        const element = document.querySelector('#df-77041615-4117-44de-ba9d-7f80fbb2df48');\n",
              "        const dataTable =\n",
              "          await google.colab.kernel.invokeFunction('convertToInteractive',\n",
              "                                                    [key], {});\n",
              "        if (!dataTable) return;\n",
              "\n",
              "        const docLinkHtml = 'Like what you see? Visit the ' +\n",
              "          '<a target=\"_blank\" href=https://colab.research.google.com/notebooks/data_table.ipynb>data table notebook</a>'\n",
              "          + ' to learn more about interactive tables.';\n",
              "        element.innerHTML = '';\n",
              "        dataTable['output_type'] = 'display_data';\n",
              "        await google.colab.output.renderOutput(dataTable, element);\n",
              "        const docLink = document.createElement('div');\n",
              "        docLink.innerHTML = docLinkHtml;\n",
              "        element.appendChild(docLink);\n",
              "      }\n",
              "    </script>\n",
              "  </div>\n",
              "\n",
              "\n",
              "<div id=\"df-86e63879-4d7d-4107-b404-2534172b1110\">\n",
              "  <button class=\"colab-df-quickchart\" onclick=\"quickchart('df-86e63879-4d7d-4107-b404-2534172b1110')\"\n",
              "            title=\"Suggest charts\"\n",
              "            style=\"display:none;\">\n",
              "\n",
              "<svg xmlns=\"http://www.w3.org/2000/svg\" height=\"24px\"viewBox=\"0 0 24 24\"\n",
              "     width=\"24px\">\n",
              "    <g>\n",
              "        <path d=\"M19 3H5c-1.1 0-2 .9-2 2v14c0 1.1.9 2 2 2h14c1.1 0 2-.9 2-2V5c0-1.1-.9-2-2-2zM9 17H7v-7h2v7zm4 0h-2V7h2v10zm4 0h-2v-4h2v4z\"/>\n",
              "    </g>\n",
              "</svg>\n",
              "  </button>\n",
              "\n",
              "<style>\n",
              "  .colab-df-quickchart {\n",
              "      --bg-color: #E8F0FE;\n",
              "      --fill-color: #1967D2;\n",
              "      --hover-bg-color: #E2EBFA;\n",
              "      --hover-fill-color: #174EA6;\n",
              "      --disabled-fill-color: #AAA;\n",
              "      --disabled-bg-color: #DDD;\n",
              "  }\n",
              "\n",
              "  [theme=dark] .colab-df-quickchart {\n",
              "      --bg-color: #3B4455;\n",
              "      --fill-color: #D2E3FC;\n",
              "      --hover-bg-color: #434B5C;\n",
              "      --hover-fill-color: #FFFFFF;\n",
              "      --disabled-bg-color: #3B4455;\n",
              "      --disabled-fill-color: #666;\n",
              "  }\n",
              "\n",
              "  .colab-df-quickchart {\n",
              "    background-color: var(--bg-color);\n",
              "    border: none;\n",
              "    border-radius: 50%;\n",
              "    cursor: pointer;\n",
              "    display: none;\n",
              "    fill: var(--fill-color);\n",
              "    height: 32px;\n",
              "    padding: 0;\n",
              "    width: 32px;\n",
              "  }\n",
              "\n",
              "  .colab-df-quickchart:hover {\n",
              "    background-color: var(--hover-bg-color);\n",
              "    box-shadow: 0 1px 2px rgba(60, 64, 67, 0.3), 0 1px 3px 1px rgba(60, 64, 67, 0.15);\n",
              "    fill: var(--button-hover-fill-color);\n",
              "  }\n",
              "\n",
              "  .colab-df-quickchart-complete:disabled,\n",
              "  .colab-df-quickchart-complete:disabled:hover {\n",
              "    background-color: var(--disabled-bg-color);\n",
              "    fill: var(--disabled-fill-color);\n",
              "    box-shadow: none;\n",
              "  }\n",
              "\n",
              "  .colab-df-spinner {\n",
              "    border: 2px solid var(--fill-color);\n",
              "    border-color: transparent;\n",
              "    border-bottom-color: var(--fill-color);\n",
              "    animation:\n",
              "      spin 1s steps(1) infinite;\n",
              "  }\n",
              "\n",
              "  @keyframes spin {\n",
              "    0% {\n",
              "      border-color: transparent;\n",
              "      border-bottom-color: var(--fill-color);\n",
              "      border-left-color: var(--fill-color);\n",
              "    }\n",
              "    20% {\n",
              "      border-color: transparent;\n",
              "      border-left-color: var(--fill-color);\n",
              "      border-top-color: var(--fill-color);\n",
              "    }\n",
              "    30% {\n",
              "      border-color: transparent;\n",
              "      border-left-color: var(--fill-color);\n",
              "      border-top-color: var(--fill-color);\n",
              "      border-right-color: var(--fill-color);\n",
              "    }\n",
              "    40% {\n",
              "      border-color: transparent;\n",
              "      border-right-color: var(--fill-color);\n",
              "      border-top-color: var(--fill-color);\n",
              "    }\n",
              "    60% {\n",
              "      border-color: transparent;\n",
              "      border-right-color: var(--fill-color);\n",
              "    }\n",
              "    80% {\n",
              "      border-color: transparent;\n",
              "      border-right-color: var(--fill-color);\n",
              "      border-bottom-color: var(--fill-color);\n",
              "    }\n",
              "    90% {\n",
              "      border-color: transparent;\n",
              "      border-bottom-color: var(--fill-color);\n",
              "    }\n",
              "  }\n",
              "</style>\n",
              "\n",
              "  <script>\n",
              "    async function quickchart(key) {\n",
              "      const quickchartButtonEl =\n",
              "        document.querySelector('#' + key + ' button');\n",
              "      quickchartButtonEl.disabled = true;  // To prevent multiple clicks.\n",
              "      quickchartButtonEl.classList.add('colab-df-spinner');\n",
              "      try {\n",
              "        const charts = await google.colab.kernel.invokeFunction(\n",
              "            'suggestCharts', [key], {});\n",
              "      } catch (error) {\n",
              "        console.error('Error during call to suggestCharts:', error);\n",
              "      }\n",
              "      quickchartButtonEl.classList.remove('colab-df-spinner');\n",
              "      quickchartButtonEl.classList.add('colab-df-quickchart-complete');\n",
              "    }\n",
              "    (() => {\n",
              "      let quickchartButtonEl =\n",
              "        document.querySelector('#df-86e63879-4d7d-4107-b404-2534172b1110 button');\n",
              "      quickchartButtonEl.style.display =\n",
              "        google.colab.kernel.accessAllowed ? 'block' : 'none';\n",
              "    })();\n",
              "  </script>\n",
              "</div>\n",
              "\n",
              "  <div id=\"id_de46201b-7e19-4b44-b78d-7281fa4316c8\">\n",
              "    <style>\n",
              "      .colab-df-generate {\n",
              "        background-color: #E8F0FE;\n",
              "        border: none;\n",
              "        border-radius: 50%;\n",
              "        cursor: pointer;\n",
              "        display: none;\n",
              "        fill: #1967D2;\n",
              "        height: 32px;\n",
              "        padding: 0 0 0 0;\n",
              "        width: 32px;\n",
              "      }\n",
              "\n",
              "      .colab-df-generate:hover {\n",
              "        background-color: #E2EBFA;\n",
              "        box-shadow: 0px 1px 2px rgba(60, 64, 67, 0.3), 0px 1px 3px 1px rgba(60, 64, 67, 0.15);\n",
              "        fill: #174EA6;\n",
              "      }\n",
              "\n",
              "      [theme=dark] .colab-df-generate {\n",
              "        background-color: #3B4455;\n",
              "        fill: #D2E3FC;\n",
              "      }\n",
              "\n",
              "      [theme=dark] .colab-df-generate:hover {\n",
              "        background-color: #434B5C;\n",
              "        box-shadow: 0px 1px 3px 1px rgba(0, 0, 0, 0.15);\n",
              "        filter: drop-shadow(0px 1px 2px rgba(0, 0, 0, 0.3));\n",
              "        fill: #FFFFFF;\n",
              "      }\n",
              "    </style>\n",
              "    <button class=\"colab-df-generate\" onclick=\"generateWithVariable('df_final')\"\n",
              "            title=\"Generate code using this dataframe.\"\n",
              "            style=\"display:none;\">\n",
              "\n",
              "  <svg xmlns=\"http://www.w3.org/2000/svg\" height=\"24px\"viewBox=\"0 0 24 24\"\n",
              "       width=\"24px\">\n",
              "    <path d=\"M7,19H8.4L18.45,9,17,7.55,7,17.6ZM5,21V16.75L18.45,3.32a2,2,0,0,1,2.83,0l1.4,1.43a1.91,1.91,0,0,1,.58,1.4,1.91,1.91,0,0,1-.58,1.4L9.25,21ZM18.45,9,17,7.55Zm-12,3A5.31,5.31,0,0,0,4.9,8.1,5.31,5.31,0,0,0,1,6.5,5.31,5.31,0,0,0,4.9,4.9,5.31,5.31,0,0,0,6.5,1,5.31,5.31,0,0,0,8.1,4.9,5.31,5.31,0,0,0,12,6.5,5.46,5.46,0,0,0,6.5,12Z\"/>\n",
              "  </svg>\n",
              "    </button>\n",
              "    <script>\n",
              "      (() => {\n",
              "      const buttonEl =\n",
              "        document.querySelector('#id_de46201b-7e19-4b44-b78d-7281fa4316c8 button.colab-df-generate');\n",
              "      buttonEl.style.display =\n",
              "        google.colab.kernel.accessAllowed ? 'block' : 'none';\n",
              "\n",
              "      buttonEl.onclick = () => {\n",
              "        google.colab.notebook.generateWithVariable('df_final');\n",
              "      }\n",
              "      })();\n",
              "    </script>\n",
              "  </div>\n",
              "\n",
              "    </div>\n",
              "  </div>\n"
            ],
            "application/vnd.google.colaboratory.intrinsic+json": {
              "type": "dataframe",
              "variable_name": "df_final",
              "summary": "{\n  \"name\": \"df_final\",\n  \"rows\": 4035,\n  \"fields\": [\n    {\n      \"column\": \"total_actions\",\n      \"properties\": {\n        \"dtype\": \"number\",\n        \"std\": 1.9840018455364343,\n        \"min\": 1.0,\n        \"max\": 12.0,\n        \"num_unique_values\": 11,\n        \"samples\": [\n          4.0,\n          3.0,\n          12.0\n        ],\n        \"semantic_type\": \"\",\n        \"description\": \"\"\n      }\n    },\n    {\n      \"column\": \"days_between_actions\",\n      \"properties\": {\n        \"dtype\": \"number\",\n        \"std\": 129.18721783071268,\n        \"min\": 0.0,\n        \"max\": 421.0,\n        \"num_unique_values\": 263,\n        \"samples\": [\n          27.0,\n          36.0,\n          71.0\n        ],\n        \"semantic_type\": \"\",\n        \"description\": \"\"\n      }\n    },\n    {\n      \"column\": \"percentage_active_actions\",\n      \"properties\": {\n        \"dtype\": \"number\",\n        \"std\": 0.23592753764845428,\n        \"min\": 0.0,\n        \"max\": 1.0,\n        \"num_unique_values\": 14,\n        \"samples\": [\n          0.625,\n          0.7777777777777778,\n          0.6666666666666666\n        ],\n        \"semantic_type\": \"\",\n        \"description\": \"\"\n      }\n    },\n    {\n      \"column\": \"percentage_manual_actions\",\n      \"properties\": {\n        \"dtype\": \"number\",\n        \"std\": 0.21408860937766272,\n        \"min\": 0.5,\n        \"max\": 1.0,\n        \"num_unique_values\": 17,\n        \"samples\": [\n          0.6666666666666666,\n          1.0,\n          0.8888888888888888\n        ],\n        \"semantic_type\": \"\",\n        \"description\": \"\"\n      }\n    },\n    {\n      \"column\": \"percentage_auto_actions\",\n      \"properties\": {\n        \"dtype\": \"number\",\n        \"std\": 0.0,\n        \"min\": 0.0,\n        \"max\": 0.0,\n        \"num_unique_values\": 1,\n        \"samples\": [\n          0.0\n        ],\n        \"semantic_type\": \"\",\n        \"description\": \"\"\n      }\n    },\n    {\n      \"column\": \"is_cc\",\n      \"properties\": {\n        \"dtype\": \"date\",\n        \"min\": 0,\n        \"max\": 1,\n        \"num_unique_values\": 2,\n        \"samples\": [\n          0\n        ],\n        \"semantic_type\": \"\",\n        \"description\": \"\"\n      }\n    },\n    {\n      \"column\": \"jt_school_type\",\n      \"properties\": {\n        \"dtype\": \"number\",\n        \"std\": 1.65724701365213,\n        \"min\": 1.0,\n        \"max\": 8.0,\n        \"num_unique_values\": 6,\n        \"samples\": [\n          2.0\n        ],\n        \"semantic_type\": \"\",\n        \"description\": \"\"\n      }\n    },\n    {\n      \"column\": \"jt_country\",\n      \"properties\": {\n        \"dtype\": \"number\",\n        \"std\": 2,\n        \"min\": 0,\n        \"max\": 15,\n        \"num_unique_values\": 16,\n        \"samples\": [\n          3\n        ],\n        \"semantic_type\": \"\",\n        \"description\": \"\"\n      }\n    },\n    {\n      \"column\": \"final_status\",\n      \"properties\": {\n        \"dtype\": \"category\",\n        \"num_unique_values\": 2,\n        \"samples\": [\n          \"declined\"\n        ],\n        \"semantic_type\": \"\",\n        \"description\": \"\"\n      }\n    }\n  ]\n}"
            }
          },
          "metadata": {},
          "execution_count": 13
        }
      ]
    },
    {
      "cell_type": "markdown",
      "source": [
        "### **Data Splitting:**"
      ],
      "metadata": {
        "id": "_dXw0B9iypqh"
      }
    },
    {
      "cell_type": "code",
      "source": [
        "train, test = train_test_split(df_final\n",
        "                               ,test_size=0.2\n",
        "                               ,stratify=df_final['final_status']\n",
        "                               ,random_state=42)"
      ],
      "metadata": {
        "id": "nHvC-7SECb9p"
      },
      "execution_count": 14,
      "outputs": []
    },
    {
      "cell_type": "markdown",
      "source": [
        "### **Encoding Categorical Features:**"
      ],
      "metadata": {
        "id": "Uphn37KOXw2u"
      }
    },
    {
      "cell_type": "code",
      "source": [
        "cat_feature = ['jt_school_type']\n",
        "\n",
        "train_cat = train[cat_feature]\n",
        "test_cat = test[cat_feature]\n",
        "\n",
        "enc = OneHotEncoder(handle_unknown='ignore', sparse_output=False, drop='if_binary')\n",
        "\n",
        "train_ohe = enc.fit_transform(train_cat)\n",
        "test_ohe = enc.transform(test_cat)\n",
        "\n",
        "train_cat_ohe = pd.DataFrame(train_ohe, columns=enc.get_feature_names_out(), index=train.index)\n",
        "test_cat_ohe = pd.DataFrame(test_ohe, columns=enc.get_feature_names_out(), index=test.index)\n",
        "\n",
        "train = train.drop(cat_feature, axis=1)\n",
        "test = test.drop(cat_feature, axis=1)\n",
        "\n",
        "train = pd.concat([train, train_cat_ohe], axis=1)\n",
        "test = pd.concat([test, test_cat_ohe], axis=1)"
      ],
      "metadata": {
        "id": "lCtkHARjz0-x"
      },
      "execution_count": 15,
      "outputs": []
    },
    {
      "cell_type": "markdown",
      "source": [
        "### **Modeling:**"
      ],
      "metadata": {
        "id": "spPiMVIqX0tk"
      }
    },
    {
      "cell_type": "code",
      "source": [
        "# Setting Up the PyCaret Environment\n",
        "xp = setup(data = train,\n",
        "           test_data = test,\n",
        "           target = 'final_status',\n",
        "           normalize = True,\n",
        "           session_id = 42\n",
        "           )"
      ],
      "metadata": {
        "colab": {
          "base_uri": "https://localhost:8080/",
          "height": 834
        },
        "id": "JiRbXmlH3cqP",
        "outputId": "f12779db-b700-4292-8e60-09a074f66646"
      },
      "execution_count": 16,
      "outputs": [
        {
          "output_type": "display_data",
          "data": {
            "text/plain": [
              "<pandas.io.formats.style.Styler at 0x783416f062f0>"
            ],
            "text/html": [
              "<style type=\"text/css\">\n",
              "#T_e0300_row10_col1, #T_e0300_row16_col1 {\n",
              "  background-color: lightgreen;\n",
              "}\n",
              "</style>\n",
              "<table id=\"T_e0300\" class=\"dataframe\">\n",
              "  <thead>\n",
              "    <tr>\n",
              "      <th class=\"blank level0\" >&nbsp;</th>\n",
              "      <th id=\"T_e0300_level0_col0\" class=\"col_heading level0 col0\" >Description</th>\n",
              "      <th id=\"T_e0300_level0_col1\" class=\"col_heading level0 col1\" >Value</th>\n",
              "    </tr>\n",
              "  </thead>\n",
              "  <tbody>\n",
              "    <tr>\n",
              "      <th id=\"T_e0300_level0_row0\" class=\"row_heading level0 row0\" >0</th>\n",
              "      <td id=\"T_e0300_row0_col0\" class=\"data row0 col0\" >Session id</td>\n",
              "      <td id=\"T_e0300_row0_col1\" class=\"data row0 col1\" >42</td>\n",
              "    </tr>\n",
              "    <tr>\n",
              "      <th id=\"T_e0300_level0_row1\" class=\"row_heading level0 row1\" >1</th>\n",
              "      <td id=\"T_e0300_row1_col0\" class=\"data row1 col0\" >Target</td>\n",
              "      <td id=\"T_e0300_row1_col1\" class=\"data row1 col1\" >final_status</td>\n",
              "    </tr>\n",
              "    <tr>\n",
              "      <th id=\"T_e0300_level0_row2\" class=\"row_heading level0 row2\" >2</th>\n",
              "      <td id=\"T_e0300_row2_col0\" class=\"data row2 col0\" >Target type</td>\n",
              "      <td id=\"T_e0300_row2_col1\" class=\"data row2 col1\" >Binary</td>\n",
              "    </tr>\n",
              "    <tr>\n",
              "      <th id=\"T_e0300_level0_row3\" class=\"row_heading level0 row3\" >3</th>\n",
              "      <td id=\"T_e0300_row3_col0\" class=\"data row3 col0\" >Target mapping</td>\n",
              "      <td id=\"T_e0300_row3_col1\" class=\"data row3 col1\" >approved: 0, declined: 1</td>\n",
              "    </tr>\n",
              "    <tr>\n",
              "      <th id=\"T_e0300_level0_row4\" class=\"row_heading level0 row4\" >4</th>\n",
              "      <td id=\"T_e0300_row4_col0\" class=\"data row4 col0\" >Original data shape</td>\n",
              "      <td id=\"T_e0300_row4_col1\" class=\"data row4 col1\" >(4035, 14)</td>\n",
              "    </tr>\n",
              "    <tr>\n",
              "      <th id=\"T_e0300_level0_row5\" class=\"row_heading level0 row5\" >5</th>\n",
              "      <td id=\"T_e0300_row5_col0\" class=\"data row5 col0\" >Transformed data shape</td>\n",
              "      <td id=\"T_e0300_row5_col1\" class=\"data row5 col1\" >(4035, 14)</td>\n",
              "    </tr>\n",
              "    <tr>\n",
              "      <th id=\"T_e0300_level0_row6\" class=\"row_heading level0 row6\" >6</th>\n",
              "      <td id=\"T_e0300_row6_col0\" class=\"data row6 col0\" >Transformed train set shape</td>\n",
              "      <td id=\"T_e0300_row6_col1\" class=\"data row6 col1\" >(3228, 14)</td>\n",
              "    </tr>\n",
              "    <tr>\n",
              "      <th id=\"T_e0300_level0_row7\" class=\"row_heading level0 row7\" >7</th>\n",
              "      <td id=\"T_e0300_row7_col0\" class=\"data row7 col0\" >Transformed test set shape</td>\n",
              "      <td id=\"T_e0300_row7_col1\" class=\"data row7 col1\" >(807, 14)</td>\n",
              "    </tr>\n",
              "    <tr>\n",
              "      <th id=\"T_e0300_level0_row8\" class=\"row_heading level0 row8\" >8</th>\n",
              "      <td id=\"T_e0300_row8_col0\" class=\"data row8 col0\" >Numeric features</td>\n",
              "      <td id=\"T_e0300_row8_col1\" class=\"data row8 col1\" >12</td>\n",
              "    </tr>\n",
              "    <tr>\n",
              "      <th id=\"T_e0300_level0_row9\" class=\"row_heading level0 row9\" >9</th>\n",
              "      <td id=\"T_e0300_row9_col0\" class=\"data row9 col0\" >Categorical features</td>\n",
              "      <td id=\"T_e0300_row9_col1\" class=\"data row9 col1\" >1</td>\n",
              "    </tr>\n",
              "    <tr>\n",
              "      <th id=\"T_e0300_level0_row10\" class=\"row_heading level0 row10\" >10</th>\n",
              "      <td id=\"T_e0300_row10_col0\" class=\"data row10 col0\" >Preprocess</td>\n",
              "      <td id=\"T_e0300_row10_col1\" class=\"data row10 col1\" >True</td>\n",
              "    </tr>\n",
              "    <tr>\n",
              "      <th id=\"T_e0300_level0_row11\" class=\"row_heading level0 row11\" >11</th>\n",
              "      <td id=\"T_e0300_row11_col0\" class=\"data row11 col0\" >Imputation type</td>\n",
              "      <td id=\"T_e0300_row11_col1\" class=\"data row11 col1\" >simple</td>\n",
              "    </tr>\n",
              "    <tr>\n",
              "      <th id=\"T_e0300_level0_row12\" class=\"row_heading level0 row12\" >12</th>\n",
              "      <td id=\"T_e0300_row12_col0\" class=\"data row12 col0\" >Numeric imputation</td>\n",
              "      <td id=\"T_e0300_row12_col1\" class=\"data row12 col1\" >mean</td>\n",
              "    </tr>\n",
              "    <tr>\n",
              "      <th id=\"T_e0300_level0_row13\" class=\"row_heading level0 row13\" >13</th>\n",
              "      <td id=\"T_e0300_row13_col0\" class=\"data row13 col0\" >Categorical imputation</td>\n",
              "      <td id=\"T_e0300_row13_col1\" class=\"data row13 col1\" >mode</td>\n",
              "    </tr>\n",
              "    <tr>\n",
              "      <th id=\"T_e0300_level0_row14\" class=\"row_heading level0 row14\" >14</th>\n",
              "      <td id=\"T_e0300_row14_col0\" class=\"data row14 col0\" >Maximum one-hot encoding</td>\n",
              "      <td id=\"T_e0300_row14_col1\" class=\"data row14 col1\" >25</td>\n",
              "    </tr>\n",
              "    <tr>\n",
              "      <th id=\"T_e0300_level0_row15\" class=\"row_heading level0 row15\" >15</th>\n",
              "      <td id=\"T_e0300_row15_col0\" class=\"data row15 col0\" >Encoding method</td>\n",
              "      <td id=\"T_e0300_row15_col1\" class=\"data row15 col1\" >None</td>\n",
              "    </tr>\n",
              "    <tr>\n",
              "      <th id=\"T_e0300_level0_row16\" class=\"row_heading level0 row16\" >16</th>\n",
              "      <td id=\"T_e0300_row16_col0\" class=\"data row16 col0\" >Normalize</td>\n",
              "      <td id=\"T_e0300_row16_col1\" class=\"data row16 col1\" >True</td>\n",
              "    </tr>\n",
              "    <tr>\n",
              "      <th id=\"T_e0300_level0_row17\" class=\"row_heading level0 row17\" >17</th>\n",
              "      <td id=\"T_e0300_row17_col0\" class=\"data row17 col0\" >Normalize method</td>\n",
              "      <td id=\"T_e0300_row17_col1\" class=\"data row17 col1\" >zscore</td>\n",
              "    </tr>\n",
              "    <tr>\n",
              "      <th id=\"T_e0300_level0_row18\" class=\"row_heading level0 row18\" >18</th>\n",
              "      <td id=\"T_e0300_row18_col0\" class=\"data row18 col0\" >Fold Generator</td>\n",
              "      <td id=\"T_e0300_row18_col1\" class=\"data row18 col1\" >StratifiedKFold</td>\n",
              "    </tr>\n",
              "    <tr>\n",
              "      <th id=\"T_e0300_level0_row19\" class=\"row_heading level0 row19\" >19</th>\n",
              "      <td id=\"T_e0300_row19_col0\" class=\"data row19 col0\" >Fold Number</td>\n",
              "      <td id=\"T_e0300_row19_col1\" class=\"data row19 col1\" >10</td>\n",
              "    </tr>\n",
              "    <tr>\n",
              "      <th id=\"T_e0300_level0_row20\" class=\"row_heading level0 row20\" >20</th>\n",
              "      <td id=\"T_e0300_row20_col0\" class=\"data row20 col0\" >CPU Jobs</td>\n",
              "      <td id=\"T_e0300_row20_col1\" class=\"data row20 col1\" >-1</td>\n",
              "    </tr>\n",
              "    <tr>\n",
              "      <th id=\"T_e0300_level0_row21\" class=\"row_heading level0 row21\" >21</th>\n",
              "      <td id=\"T_e0300_row21_col0\" class=\"data row21 col0\" >Use GPU</td>\n",
              "      <td id=\"T_e0300_row21_col1\" class=\"data row21 col1\" >False</td>\n",
              "    </tr>\n",
              "    <tr>\n",
              "      <th id=\"T_e0300_level0_row22\" class=\"row_heading level0 row22\" >22</th>\n",
              "      <td id=\"T_e0300_row22_col0\" class=\"data row22 col0\" >Log Experiment</td>\n",
              "      <td id=\"T_e0300_row22_col1\" class=\"data row22 col1\" >False</td>\n",
              "    </tr>\n",
              "    <tr>\n",
              "      <th id=\"T_e0300_level0_row23\" class=\"row_heading level0 row23\" >23</th>\n",
              "      <td id=\"T_e0300_row23_col0\" class=\"data row23 col0\" >Experiment Name</td>\n",
              "      <td id=\"T_e0300_row23_col1\" class=\"data row23 col1\" >clf-default-name</td>\n",
              "    </tr>\n",
              "    <tr>\n",
              "      <th id=\"T_e0300_level0_row24\" class=\"row_heading level0 row24\" >24</th>\n",
              "      <td id=\"T_e0300_row24_col0\" class=\"data row24 col0\" >USI</td>\n",
              "      <td id=\"T_e0300_row24_col1\" class=\"data row24 col1\" >83cd</td>\n",
              "    </tr>\n",
              "  </tbody>\n",
              "</table>\n"
            ]
          },
          "metadata": {}
        }
      ]
    },
    {
      "cell_type": "code",
      "source": [
        "# Model Comparison\n",
        "best_model = compare_models()"
      ],
      "metadata": {
        "colab": {
          "base_uri": "https://localhost:8080/",
          "height": 520,
          "referenced_widgets": [
            "33058455a9c4482eacf8e23f9e2bb13f",
            "a2da8bd8a952483593fea0af07f48471",
            "10e5f25e0a5f45378232b66b3d1bee61",
            "1bd1243ff92b4715ba1fd6c146295921",
            "79442373f2d34e5387e0ed7ac772811d",
            "994f274fe1c24442a556c1de6a3a30e9",
            "af624568ecb84d9c8dfd97e3517d0dea",
            "3e8108ce4b574e15bed4f8e3ab525e05",
            "09262e8238434dfdb4e052aefa956175",
            "0ab402b9d95e4da091416168775d13c7",
            "ede9ae09a2fc42cc9b7ebec2c0c63e39"
          ]
        },
        "id": "SrAUCIRdEGIU",
        "outputId": "b8de9026-7666-4292-9710-9b195e8d47ef"
      },
      "execution_count": 17,
      "outputs": [
        {
          "output_type": "display_data",
          "data": {
            "text/plain": [
              "<IPython.core.display.HTML object>"
            ],
            "text/html": []
          },
          "metadata": {}
        },
        {
          "output_type": "display_data",
          "data": {
            "text/plain": [
              "<pandas.io.formats.style.Styler at 0x783416f04310>"
            ],
            "text/html": [
              "<style type=\"text/css\">\n",
              "#T_74d2f th {\n",
              "  text-align: left;\n",
              "}\n",
              "#T_74d2f_row0_col0, #T_74d2f_row0_col2, #T_74d2f_row1_col0, #T_74d2f_row1_col1, #T_74d2f_row1_col3, #T_74d2f_row1_col4, #T_74d2f_row1_col5, #T_74d2f_row1_col6, #T_74d2f_row1_col7, #T_74d2f_row2_col0, #T_74d2f_row2_col1, #T_74d2f_row2_col2, #T_74d2f_row2_col3, #T_74d2f_row2_col4, #T_74d2f_row2_col5, #T_74d2f_row2_col6, #T_74d2f_row2_col7, #T_74d2f_row3_col0, #T_74d2f_row3_col1, #T_74d2f_row3_col2, #T_74d2f_row3_col3, #T_74d2f_row3_col4, #T_74d2f_row3_col5, #T_74d2f_row3_col6, #T_74d2f_row3_col7, #T_74d2f_row4_col0, #T_74d2f_row4_col1, #T_74d2f_row4_col2, #T_74d2f_row4_col3, #T_74d2f_row4_col4, #T_74d2f_row4_col5, #T_74d2f_row4_col6, #T_74d2f_row4_col7, #T_74d2f_row5_col0, #T_74d2f_row5_col1, #T_74d2f_row5_col2, #T_74d2f_row5_col3, #T_74d2f_row5_col4, #T_74d2f_row5_col5, #T_74d2f_row5_col6, #T_74d2f_row5_col7, #T_74d2f_row6_col0, #T_74d2f_row6_col1, #T_74d2f_row6_col2, #T_74d2f_row6_col3, #T_74d2f_row6_col4, #T_74d2f_row6_col5, #T_74d2f_row6_col6, #T_74d2f_row6_col7, #T_74d2f_row7_col0, #T_74d2f_row7_col1, #T_74d2f_row7_col2, #T_74d2f_row7_col3, #T_74d2f_row7_col4, #T_74d2f_row7_col5, #T_74d2f_row7_col6, #T_74d2f_row7_col7, #T_74d2f_row8_col0, #T_74d2f_row8_col1, #T_74d2f_row8_col2, #T_74d2f_row8_col3, #T_74d2f_row8_col4, #T_74d2f_row8_col5, #T_74d2f_row8_col6, #T_74d2f_row8_col7, #T_74d2f_row9_col0, #T_74d2f_row9_col1, #T_74d2f_row9_col2, #T_74d2f_row9_col3, #T_74d2f_row9_col4, #T_74d2f_row9_col5, #T_74d2f_row9_col6, #T_74d2f_row9_col7, #T_74d2f_row10_col0, #T_74d2f_row10_col1, #T_74d2f_row10_col2, #T_74d2f_row10_col3, #T_74d2f_row10_col4, #T_74d2f_row10_col5, #T_74d2f_row10_col6, #T_74d2f_row10_col7, #T_74d2f_row11_col0, #T_74d2f_row11_col1, #T_74d2f_row11_col2, #T_74d2f_row11_col3, #T_74d2f_row11_col4, #T_74d2f_row11_col5, #T_74d2f_row11_col6, #T_74d2f_row11_col7, #T_74d2f_row12_col0, #T_74d2f_row12_col1, #T_74d2f_row12_col2, #T_74d2f_row12_col3, #T_74d2f_row12_col4, #T_74d2f_row12_col5, #T_74d2f_row12_col6, #T_74d2f_row12_col7, #T_74d2f_row13_col0, #T_74d2f_row13_col1, #T_74d2f_row13_col2, #T_74d2f_row13_col3, #T_74d2f_row13_col4, #T_74d2f_row13_col5, #T_74d2f_row13_col6, #T_74d2f_row13_col7, #T_74d2f_row14_col0, #T_74d2f_row14_col1, #T_74d2f_row14_col2, #T_74d2f_row14_col3, #T_74d2f_row14_col4, #T_74d2f_row14_col5, #T_74d2f_row14_col6, #T_74d2f_row14_col7 {\n",
              "  text-align: left;\n",
              "}\n",
              "#T_74d2f_row0_col1, #T_74d2f_row0_col3, #T_74d2f_row0_col4, #T_74d2f_row0_col5, #T_74d2f_row0_col6, #T_74d2f_row0_col7, #T_74d2f_row1_col2 {\n",
              "  text-align: left;\n",
              "  background-color: yellow;\n",
              "}\n",
              "#T_74d2f_row0_col8, #T_74d2f_row1_col8, #T_74d2f_row2_col8, #T_74d2f_row3_col8, #T_74d2f_row4_col8, #T_74d2f_row5_col8, #T_74d2f_row6_col8, #T_74d2f_row7_col8, #T_74d2f_row8_col8, #T_74d2f_row9_col8, #T_74d2f_row11_col8, #T_74d2f_row13_col8, #T_74d2f_row14_col8 {\n",
              "  text-align: left;\n",
              "  background-color: lightgrey;\n",
              "}\n",
              "#T_74d2f_row10_col8, #T_74d2f_row12_col8 {\n",
              "  text-align: left;\n",
              "  background-color: yellow;\n",
              "  background-color: lightgrey;\n",
              "}\n",
              "</style>\n",
              "<table id=\"T_74d2f\" class=\"dataframe\">\n",
              "  <thead>\n",
              "    <tr>\n",
              "      <th class=\"blank level0\" >&nbsp;</th>\n",
              "      <th id=\"T_74d2f_level0_col0\" class=\"col_heading level0 col0\" >Model</th>\n",
              "      <th id=\"T_74d2f_level0_col1\" class=\"col_heading level0 col1\" >Accuracy</th>\n",
              "      <th id=\"T_74d2f_level0_col2\" class=\"col_heading level0 col2\" >AUC</th>\n",
              "      <th id=\"T_74d2f_level0_col3\" class=\"col_heading level0 col3\" >Recall</th>\n",
              "      <th id=\"T_74d2f_level0_col4\" class=\"col_heading level0 col4\" >Prec.</th>\n",
              "      <th id=\"T_74d2f_level0_col5\" class=\"col_heading level0 col5\" >F1</th>\n",
              "      <th id=\"T_74d2f_level0_col6\" class=\"col_heading level0 col6\" >Kappa</th>\n",
              "      <th id=\"T_74d2f_level0_col7\" class=\"col_heading level0 col7\" >MCC</th>\n",
              "      <th id=\"T_74d2f_level0_col8\" class=\"col_heading level0 col8\" >TT (Sec)</th>\n",
              "    </tr>\n",
              "  </thead>\n",
              "  <tbody>\n",
              "    <tr>\n",
              "      <th id=\"T_74d2f_level0_row0\" class=\"row_heading level0 row0\" >rf</th>\n",
              "      <td id=\"T_74d2f_row0_col0\" class=\"data row0 col0\" >Random Forest Classifier</td>\n",
              "      <td id=\"T_74d2f_row0_col1\" class=\"data row0 col1\" >0.8324</td>\n",
              "      <td id=\"T_74d2f_row0_col2\" class=\"data row0 col2\" >0.9291</td>\n",
              "      <td id=\"T_74d2f_row0_col3\" class=\"data row0 col3\" >0.8324</td>\n",
              "      <td id=\"T_74d2f_row0_col4\" class=\"data row0 col4\" >0.8449</td>\n",
              "      <td id=\"T_74d2f_row0_col5\" class=\"data row0 col5\" >0.8298</td>\n",
              "      <td id=\"T_74d2f_row0_col6\" class=\"data row0 col6\" >0.6604</td>\n",
              "      <td id=\"T_74d2f_row0_col7\" class=\"data row0 col7\" >0.6745</td>\n",
              "      <td id=\"T_74d2f_row0_col8\" class=\"data row0 col8\" >0.4530</td>\n",
              "    </tr>\n",
              "    <tr>\n",
              "      <th id=\"T_74d2f_level0_row1\" class=\"row_heading level0 row1\" >et</th>\n",
              "      <td id=\"T_74d2f_row1_col0\" class=\"data row1 col0\" >Extra Trees Classifier</td>\n",
              "      <td id=\"T_74d2f_row1_col1\" class=\"data row1 col1\" >0.8315</td>\n",
              "      <td id=\"T_74d2f_row1_col2\" class=\"data row1 col2\" >0.9334</td>\n",
              "      <td id=\"T_74d2f_row1_col3\" class=\"data row1 col3\" >0.8315</td>\n",
              "      <td id=\"T_74d2f_row1_col4\" class=\"data row1 col4\" >0.8438</td>\n",
              "      <td id=\"T_74d2f_row1_col5\" class=\"data row1 col5\" >0.8288</td>\n",
              "      <td id=\"T_74d2f_row1_col6\" class=\"data row1 col6\" >0.6585</td>\n",
              "      <td id=\"T_74d2f_row1_col7\" class=\"data row1 col7\" >0.6725</td>\n",
              "      <td id=\"T_74d2f_row1_col8\" class=\"data row1 col8\" >0.3870</td>\n",
              "    </tr>\n",
              "    <tr>\n",
              "      <th id=\"T_74d2f_level0_row2\" class=\"row_heading level0 row2\" >dt</th>\n",
              "      <td id=\"T_74d2f_row2_col0\" class=\"data row2 col0\" >Decision Tree Classifier</td>\n",
              "      <td id=\"T_74d2f_row2_col1\" class=\"data row2 col1\" >0.8302</td>\n",
              "      <td id=\"T_74d2f_row2_col2\" class=\"data row2 col2\" >0.9262</td>\n",
              "      <td id=\"T_74d2f_row2_col3\" class=\"data row2 col3\" >0.8302</td>\n",
              "      <td id=\"T_74d2f_row2_col4\" class=\"data row2 col4\" >0.8426</td>\n",
              "      <td id=\"T_74d2f_row2_col5\" class=\"data row2 col5\" >0.8276</td>\n",
              "      <td id=\"T_74d2f_row2_col6\" class=\"data row2 col6\" >0.6560</td>\n",
              "      <td id=\"T_74d2f_row2_col7\" class=\"data row2 col7\" >0.6700</td>\n",
              "      <td id=\"T_74d2f_row2_col8\" class=\"data row2 col8\" >0.1130</td>\n",
              "    </tr>\n",
              "    <tr>\n",
              "      <th id=\"T_74d2f_level0_row3\" class=\"row_heading level0 row3\" >xgboost</th>\n",
              "      <td id=\"T_74d2f_row3_col0\" class=\"data row3 col0\" >Extreme Gradient Boosting</td>\n",
              "      <td id=\"T_74d2f_row3_col1\" class=\"data row3 col1\" >0.8132</td>\n",
              "      <td id=\"T_74d2f_row3_col2\" class=\"data row3 col2\" >0.9106</td>\n",
              "      <td id=\"T_74d2f_row3_col3\" class=\"data row3 col3\" >0.8132</td>\n",
              "      <td id=\"T_74d2f_row3_col4\" class=\"data row3 col4\" >0.8257</td>\n",
              "      <td id=\"T_74d2f_row3_col5\" class=\"data row3 col5\" >0.8100</td>\n",
              "      <td id=\"T_74d2f_row3_col6\" class=\"data row3 col6\" >0.6213</td>\n",
              "      <td id=\"T_74d2f_row3_col7\" class=\"data row3 col7\" >0.6357</td>\n",
              "      <td id=\"T_74d2f_row3_col8\" class=\"data row3 col8\" >0.3200</td>\n",
              "    </tr>\n",
              "    <tr>\n",
              "      <th id=\"T_74d2f_level0_row4\" class=\"row_heading level0 row4\" >lightgbm</th>\n",
              "      <td id=\"T_74d2f_row4_col0\" class=\"data row4 col0\" >Light Gradient Boosting Machine</td>\n",
              "      <td id=\"T_74d2f_row4_col1\" class=\"data row4 col1\" >0.8036</td>\n",
              "      <td id=\"T_74d2f_row4_col2\" class=\"data row4 col2\" >0.9034</td>\n",
              "      <td id=\"T_74d2f_row4_col3\" class=\"data row4 col3\" >0.8036</td>\n",
              "      <td id=\"T_74d2f_row4_col4\" class=\"data row4 col4\" >0.8145</td>\n",
              "      <td id=\"T_74d2f_row4_col5\" class=\"data row4 col5\" >0.8005</td>\n",
              "      <td id=\"T_74d2f_row4_col6\" class=\"data row4 col6\" >0.6020</td>\n",
              "      <td id=\"T_74d2f_row4_col7\" class=\"data row4 col7\" >0.6148</td>\n",
              "      <td id=\"T_74d2f_row4_col8\" class=\"data row4 col8\" >0.5960</td>\n",
              "    </tr>\n",
              "    <tr>\n",
              "      <th id=\"T_74d2f_level0_row5\" class=\"row_heading level0 row5\" >knn</th>\n",
              "      <td id=\"T_74d2f_row5_col0\" class=\"data row5 col0\" >K Neighbors Classifier</td>\n",
              "      <td id=\"T_74d2f_row5_col1\" class=\"data row5 col1\" >0.7324</td>\n",
              "      <td id=\"T_74d2f_row5_col2\" class=\"data row5 col2\" >0.8353</td>\n",
              "      <td id=\"T_74d2f_row5_col3\" class=\"data row5 col3\" >0.7324</td>\n",
              "      <td id=\"T_74d2f_row5_col4\" class=\"data row5 col4\" >0.7367</td>\n",
              "      <td id=\"T_74d2f_row5_col5\" class=\"data row5 col5\" >0.7317</td>\n",
              "      <td id=\"T_74d2f_row5_col6\" class=\"data row5 col6\" >0.4649</td>\n",
              "      <td id=\"T_74d2f_row5_col7\" class=\"data row5 col7\" >0.4684</td>\n",
              "      <td id=\"T_74d2f_row5_col8\" class=\"data row5 col8\" >0.2040</td>\n",
              "    </tr>\n",
              "    <tr>\n",
              "      <th id=\"T_74d2f_level0_row6\" class=\"row_heading level0 row6\" >gbc</th>\n",
              "      <td id=\"T_74d2f_row6_col0\" class=\"data row6 col0\" >Gradient Boosting Classifier</td>\n",
              "      <td id=\"T_74d2f_row6_col1\" class=\"data row6 col1\" >0.7200</td>\n",
              "      <td id=\"T_74d2f_row6_col2\" class=\"data row6 col2\" >0.7983</td>\n",
              "      <td id=\"T_74d2f_row6_col3\" class=\"data row6 col3\" >0.7200</td>\n",
              "      <td id=\"T_74d2f_row6_col4\" class=\"data row6 col4\" >0.7257</td>\n",
              "      <td id=\"T_74d2f_row6_col5\" class=\"data row6 col5\" >0.7158</td>\n",
              "      <td id=\"T_74d2f_row6_col6\" class=\"data row6 col6\" >0.4327</td>\n",
              "      <td id=\"T_74d2f_row6_col7\" class=\"data row6 col7\" >0.4412</td>\n",
              "      <td id=\"T_74d2f_row6_col8\" class=\"data row6 col8\" >0.3390</td>\n",
              "    </tr>\n",
              "    <tr>\n",
              "      <th id=\"T_74d2f_level0_row7\" class=\"row_heading level0 row7\" >ada</th>\n",
              "      <td id=\"T_74d2f_row7_col0\" class=\"data row7 col0\" >Ada Boost Classifier</td>\n",
              "      <td id=\"T_74d2f_row7_col1\" class=\"data row7 col1\" >0.6431</td>\n",
              "      <td id=\"T_74d2f_row7_col2\" class=\"data row7 col2\" >0.6888</td>\n",
              "      <td id=\"T_74d2f_row7_col3\" class=\"data row7 col3\" >0.6431</td>\n",
              "      <td id=\"T_74d2f_row7_col4\" class=\"data row7 col4\" >0.6466</td>\n",
              "      <td id=\"T_74d2f_row7_col5\" class=\"data row7 col5\" >0.6362</td>\n",
              "      <td id=\"T_74d2f_row7_col6\" class=\"data row7 col6\" >0.2758</td>\n",
              "      <td id=\"T_74d2f_row7_col7\" class=\"data row7 col7\" >0.2834</td>\n",
              "      <td id=\"T_74d2f_row7_col8\" class=\"data row7 col8\" >0.3660</td>\n",
              "    </tr>\n",
              "    <tr>\n",
              "      <th id=\"T_74d2f_level0_row8\" class=\"row_heading level0 row8\" >lr</th>\n",
              "      <td id=\"T_74d2f_row8_col0\" class=\"data row8 col0\" >Logistic Regression</td>\n",
              "      <td id=\"T_74d2f_row8_col1\" class=\"data row8 col1\" >0.5685</td>\n",
              "      <td id=\"T_74d2f_row8_col2\" class=\"data row8 col2\" >0.6006</td>\n",
              "      <td id=\"T_74d2f_row8_col3\" class=\"data row8 col3\" >0.5685</td>\n",
              "      <td id=\"T_74d2f_row8_col4\" class=\"data row8 col4\" >0.5694</td>\n",
              "      <td id=\"T_74d2f_row8_col5\" class=\"data row8 col5\" >0.5659</td>\n",
              "      <td id=\"T_74d2f_row8_col6\" class=\"data row8 col6\" >0.1342</td>\n",
              "      <td id=\"T_74d2f_row8_col7\" class=\"data row8 col7\" >0.1353</td>\n",
              "      <td id=\"T_74d2f_row8_col8\" class=\"data row8 col8\" >0.8940</td>\n",
              "    </tr>\n",
              "    <tr>\n",
              "      <th id=\"T_74d2f_level0_row9\" class=\"row_heading level0 row9\" >lda</th>\n",
              "      <td id=\"T_74d2f_row9_col0\" class=\"data row9 col0\" >Linear Discriminant Analysis</td>\n",
              "      <td id=\"T_74d2f_row9_col1\" class=\"data row9 col1\" >0.5675</td>\n",
              "      <td id=\"T_74d2f_row9_col2\" class=\"data row9 col2\" >0.6007</td>\n",
              "      <td id=\"T_74d2f_row9_col3\" class=\"data row9 col3\" >0.5675</td>\n",
              "      <td id=\"T_74d2f_row9_col4\" class=\"data row9 col4\" >0.5683</td>\n",
              "      <td id=\"T_74d2f_row9_col5\" class=\"data row9 col5\" >0.5640</td>\n",
              "      <td id=\"T_74d2f_row9_col6\" class=\"data row9 col6\" >0.1312</td>\n",
              "      <td id=\"T_74d2f_row9_col7\" class=\"data row9 col7\" >0.1328</td>\n",
              "      <td id=\"T_74d2f_row9_col8\" class=\"data row9 col8\" >0.1030</td>\n",
              "    </tr>\n",
              "    <tr>\n",
              "      <th id=\"T_74d2f_level0_row10\" class=\"row_heading level0 row10\" >ridge</th>\n",
              "      <td id=\"T_74d2f_row10_col0\" class=\"data row10 col0\" >Ridge Classifier</td>\n",
              "      <td id=\"T_74d2f_row10_col1\" class=\"data row10 col1\" >0.5666</td>\n",
              "      <td id=\"T_74d2f_row10_col2\" class=\"data row10 col2\" >0.6007</td>\n",
              "      <td id=\"T_74d2f_row10_col3\" class=\"data row10 col3\" >0.5666</td>\n",
              "      <td id=\"T_74d2f_row10_col4\" class=\"data row10 col4\" >0.5673</td>\n",
              "      <td id=\"T_74d2f_row10_col5\" class=\"data row10 col5\" >0.5630</td>\n",
              "      <td id=\"T_74d2f_row10_col6\" class=\"data row10 col6\" >0.1293</td>\n",
              "      <td id=\"T_74d2f_row10_col7\" class=\"data row10 col7\" >0.1308</td>\n",
              "      <td id=\"T_74d2f_row10_col8\" class=\"data row10 col8\" >0.0990</td>\n",
              "    </tr>\n",
              "    <tr>\n",
              "      <th id=\"T_74d2f_level0_row11\" class=\"row_heading level0 row11\" >svm</th>\n",
              "      <td id=\"T_74d2f_row11_col0\" class=\"data row11 col0\" >SVM - Linear Kernel</td>\n",
              "      <td id=\"T_74d2f_row11_col1\" class=\"data row11 col1\" >0.5384</td>\n",
              "      <td id=\"T_74d2f_row11_col2\" class=\"data row11 col2\" >0.5594</td>\n",
              "      <td id=\"T_74d2f_row11_col3\" class=\"data row11 col3\" >0.5384</td>\n",
              "      <td id=\"T_74d2f_row11_col4\" class=\"data row11 col4\" >0.5426</td>\n",
              "      <td id=\"T_74d2f_row11_col5\" class=\"data row11 col5\" >0.5275</td>\n",
              "      <td id=\"T_74d2f_row11_col6\" class=\"data row11 col6\" >0.0704</td>\n",
              "      <td id=\"T_74d2f_row11_col7\" class=\"data row11 col7\" >0.0763</td>\n",
              "      <td id=\"T_74d2f_row11_col8\" class=\"data row11 col8\" >0.1100</td>\n",
              "    </tr>\n",
              "    <tr>\n",
              "      <th id=\"T_74d2f_level0_row12\" class=\"row_heading level0 row12\" >nb</th>\n",
              "      <td id=\"T_74d2f_row12_col0\" class=\"data row12 col0\" >Naive Bayes</td>\n",
              "      <td id=\"T_74d2f_row12_col1\" class=\"data row12 col1\" >0.5276</td>\n",
              "      <td id=\"T_74d2f_row12_col2\" class=\"data row12 col2\" >0.5929</td>\n",
              "      <td id=\"T_74d2f_row12_col3\" class=\"data row12 col3\" >0.5276</td>\n",
              "      <td id=\"T_74d2f_row12_col4\" class=\"data row12 col4\" >0.4905</td>\n",
              "      <td id=\"T_74d2f_row12_col5\" class=\"data row12 col5\" >0.3682</td>\n",
              "      <td id=\"T_74d2f_row12_col6\" class=\"data row12 col6\" >0.0037</td>\n",
              "      <td id=\"T_74d2f_row12_col7\" class=\"data row12 col7\" >0.0195</td>\n",
              "      <td id=\"T_74d2f_row12_col8\" class=\"data row12 col8\" >0.0990</td>\n",
              "    </tr>\n",
              "    <tr>\n",
              "      <th id=\"T_74d2f_level0_row13\" class=\"row_heading level0 row13\" >dummy</th>\n",
              "      <td id=\"T_74d2f_row13_col0\" class=\"data row13 col0\" >Dummy Classifier</td>\n",
              "      <td id=\"T_74d2f_row13_col1\" class=\"data row13 col1\" >0.5260</td>\n",
              "      <td id=\"T_74d2f_row13_col2\" class=\"data row13 col2\" >0.5000</td>\n",
              "      <td id=\"T_74d2f_row13_col3\" class=\"data row13 col3\" >0.5260</td>\n",
              "      <td id=\"T_74d2f_row13_col4\" class=\"data row13 col4\" >0.2767</td>\n",
              "      <td id=\"T_74d2f_row13_col5\" class=\"data row13 col5\" >0.3626</td>\n",
              "      <td id=\"T_74d2f_row13_col6\" class=\"data row13 col6\" >0.0000</td>\n",
              "      <td id=\"T_74d2f_row13_col7\" class=\"data row13 col7\" >0.0000</td>\n",
              "      <td id=\"T_74d2f_row13_col8\" class=\"data row13 col8\" >0.1110</td>\n",
              "    </tr>\n",
              "    <tr>\n",
              "      <th id=\"T_74d2f_level0_row14\" class=\"row_heading level0 row14\" >qda</th>\n",
              "      <td id=\"T_74d2f_row14_col0\" class=\"data row14 col0\" >Quadratic Discriminant Analysis</td>\n",
              "      <td id=\"T_74d2f_row14_col1\" class=\"data row14 col1\" >0.5223</td>\n",
              "      <td id=\"T_74d2f_row14_col2\" class=\"data row14 col2\" >0.5498</td>\n",
              "      <td id=\"T_74d2f_row14_col3\" class=\"data row14 col3\" >0.5223</td>\n",
              "      <td id=\"T_74d2f_row14_col4\" class=\"data row14 col4\" >0.4728</td>\n",
              "      <td id=\"T_74d2f_row14_col5\" class=\"data row14 col5\" >0.4253</td>\n",
              "      <td id=\"T_74d2f_row14_col6\" class=\"data row14 col6\" >0.0136</td>\n",
              "      <td id=\"T_74d2f_row14_col7\" class=\"data row14 col7\" >0.0169</td>\n",
              "      <td id=\"T_74d2f_row14_col8\" class=\"data row14 col8\" >0.1700</td>\n",
              "    </tr>\n",
              "  </tbody>\n",
              "</table>\n"
            ]
          },
          "metadata": {}
        },
        {
          "output_type": "display_data",
          "data": {
            "text/plain": [
              "Processing:   0%|          | 0/65 [00:00<?, ?it/s]"
            ],
            "application/vnd.jupyter.widget-view+json": {
              "version_major": 2,
              "version_minor": 0,
              "model_id": "33058455a9c4482eacf8e23f9e2bb13f"
            }
          },
          "metadata": {
            "application/vnd.jupyter.widget-view+json": {
              "colab": {
                "custom_widget_manager": {
                  "url": "https://ssl.gstatic.com/colaboratory-static/widgets/colab-cdn-widget-manager/2b70e893a8ba7c0f/manager.min.js"
                }
              }
            }
          }
        },
        {
          "output_type": "display_data",
          "data": {
            "text/plain": [
              "<IPython.core.display.HTML object>"
            ],
            "text/html": []
          },
          "metadata": {}
        }
      ]
    },
    {
      "cell_type": "code",
      "source": [
        "# Model Tuning\n",
        "best_model_tuned = tune_model(best_model)"
      ],
      "metadata": {
        "colab": {
          "base_uri": "https://localhost:8080/",
          "height": 492,
          "referenced_widgets": [
            "1b377a7781784b98a4b98868af794780",
            "a134972b6f6247ee96847699810e04fa",
            "189a29d3760c4f1b9a37d92b78775505",
            "60e51a374c6e45c689827651c3fda777",
            "af9131c525c242bf8310d8a22fe05c03",
            "8e82fc59a7974c5e95c1603338ff3460",
            "75663331910d44ffad5734a173834e7e",
            "73812fbb538946c29309f566562da0ad",
            "4f5ab9d4c22e40e2bae1a0b2962ddd67",
            "96b688c9103744d99f5e958cbc827988",
            "5473d4ad305f4232818f554fccefe1e2"
          ]
        },
        "id": "rcyE1nq9_-Ku",
        "outputId": "38c54658-24cd-4fa0-a3df-d3627bf9de87"
      },
      "execution_count": 18,
      "outputs": [
        {
          "output_type": "display_data",
          "data": {
            "text/plain": [
              "<IPython.core.display.HTML object>"
            ],
            "text/html": []
          },
          "metadata": {}
        },
        {
          "output_type": "display_data",
          "data": {
            "text/plain": [
              "<pandas.io.formats.style.Styler at 0x783417535390>"
            ],
            "text/html": [
              "<style type=\"text/css\">\n",
              "#T_a54c7_row10_col0, #T_a54c7_row10_col1, #T_a54c7_row10_col2, #T_a54c7_row10_col3, #T_a54c7_row10_col4, #T_a54c7_row10_col5, #T_a54c7_row10_col6 {\n",
              "  background: yellow;\n",
              "}\n",
              "</style>\n",
              "<table id=\"T_a54c7\" class=\"dataframe\">\n",
              "  <thead>\n",
              "    <tr>\n",
              "      <th class=\"blank level0\" >&nbsp;</th>\n",
              "      <th id=\"T_a54c7_level0_col0\" class=\"col_heading level0 col0\" >Accuracy</th>\n",
              "      <th id=\"T_a54c7_level0_col1\" class=\"col_heading level0 col1\" >AUC</th>\n",
              "      <th id=\"T_a54c7_level0_col2\" class=\"col_heading level0 col2\" >Recall</th>\n",
              "      <th id=\"T_a54c7_level0_col3\" class=\"col_heading level0 col3\" >Prec.</th>\n",
              "      <th id=\"T_a54c7_level0_col4\" class=\"col_heading level0 col4\" >F1</th>\n",
              "      <th id=\"T_a54c7_level0_col5\" class=\"col_heading level0 col5\" >Kappa</th>\n",
              "      <th id=\"T_a54c7_level0_col6\" class=\"col_heading level0 col6\" >MCC</th>\n",
              "    </tr>\n",
              "    <tr>\n",
              "      <th class=\"index_name level0\" >Fold</th>\n",
              "      <th class=\"blank col0\" >&nbsp;</th>\n",
              "      <th class=\"blank col1\" >&nbsp;</th>\n",
              "      <th class=\"blank col2\" >&nbsp;</th>\n",
              "      <th class=\"blank col3\" >&nbsp;</th>\n",
              "      <th class=\"blank col4\" >&nbsp;</th>\n",
              "      <th class=\"blank col5\" >&nbsp;</th>\n",
              "      <th class=\"blank col6\" >&nbsp;</th>\n",
              "    </tr>\n",
              "  </thead>\n",
              "  <tbody>\n",
              "    <tr>\n",
              "      <th id=\"T_a54c7_level0_row0\" class=\"row_heading level0 row0\" >0</th>\n",
              "      <td id=\"T_a54c7_row0_col0\" class=\"data row0 col0\" >0.7307</td>\n",
              "      <td id=\"T_a54c7_row0_col1\" class=\"data row0 col1\" >0.8094</td>\n",
              "      <td id=\"T_a54c7_row0_col2\" class=\"data row0 col2\" >0.7307</td>\n",
              "      <td id=\"T_a54c7_row0_col3\" class=\"data row0 col3\" >0.7341</td>\n",
              "      <td id=\"T_a54c7_row0_col4\" class=\"data row0 col4\" >0.7279</td>\n",
              "      <td id=\"T_a54c7_row0_col5\" class=\"data row0 col5\" >0.4554</td>\n",
              "      <td id=\"T_a54c7_row0_col6\" class=\"data row0 col6\" >0.4610</td>\n",
              "    </tr>\n",
              "    <tr>\n",
              "      <th id=\"T_a54c7_level0_row1\" class=\"row_heading level0 row1\" >1</th>\n",
              "      <td id=\"T_a54c7_row1_col0\" class=\"data row1 col0\" >0.7461</td>\n",
              "      <td id=\"T_a54c7_row1_col1\" class=\"data row1 col1\" >0.8249</td>\n",
              "      <td id=\"T_a54c7_row1_col2\" class=\"data row1 col2\" >0.7461</td>\n",
              "      <td id=\"T_a54c7_row1_col3\" class=\"data row1 col3\" >0.7576</td>\n",
              "      <td id=\"T_a54c7_row1_col4\" class=\"data row1 col4\" >0.7409</td>\n",
              "      <td id=\"T_a54c7_row1_col5\" class=\"data row1 col5\" >0.4844</td>\n",
              "      <td id=\"T_a54c7_row1_col6\" class=\"data row1 col6\" >0.4989</td>\n",
              "    </tr>\n",
              "    <tr>\n",
              "      <th id=\"T_a54c7_level0_row2\" class=\"row_heading level0 row2\" >2</th>\n",
              "      <td id=\"T_a54c7_row2_col0\" class=\"data row2 col0\" >0.7090</td>\n",
              "      <td id=\"T_a54c7_row2_col1\" class=\"data row2 col1\" >0.8048</td>\n",
              "      <td id=\"T_a54c7_row2_col2\" class=\"data row2 col2\" >0.7090</td>\n",
              "      <td id=\"T_a54c7_row2_col3\" class=\"data row2 col3\" >0.7145</td>\n",
              "      <td id=\"T_a54c7_row2_col4\" class=\"data row2 col4\" >0.7045</td>\n",
              "      <td id=\"T_a54c7_row2_col5\" class=\"data row2 col5\" >0.4102</td>\n",
              "      <td id=\"T_a54c7_row2_col6\" class=\"data row2 col6\" >0.4187</td>\n",
              "    </tr>\n",
              "    <tr>\n",
              "      <th id=\"T_a54c7_level0_row3\" class=\"row_heading level0 row3\" >3</th>\n",
              "      <td id=\"T_a54c7_row3_col0\" class=\"data row3 col0\" >0.7399</td>\n",
              "      <td id=\"T_a54c7_row3_col1\" class=\"data row3 col1\" >0.8273</td>\n",
              "      <td id=\"T_a54c7_row3_col2\" class=\"data row3 col2\" >0.7399</td>\n",
              "      <td id=\"T_a54c7_row3_col3\" class=\"data row3 col3\" >0.7441</td>\n",
              "      <td id=\"T_a54c7_row3_col4\" class=\"data row3 col4\" >0.7371</td>\n",
              "      <td id=\"T_a54c7_row3_col5\" class=\"data row3 col5\" >0.4740</td>\n",
              "      <td id=\"T_a54c7_row3_col6\" class=\"data row3 col6\" >0.4804</td>\n",
              "    </tr>\n",
              "    <tr>\n",
              "      <th id=\"T_a54c7_level0_row4\" class=\"row_heading level0 row4\" >4</th>\n",
              "      <td id=\"T_a54c7_row4_col0\" class=\"data row4 col0\" >0.7152</td>\n",
              "      <td id=\"T_a54c7_row4_col1\" class=\"data row4 col1\" >0.7928</td>\n",
              "      <td id=\"T_a54c7_row4_col2\" class=\"data row4 col2\" >0.7152</td>\n",
              "      <td id=\"T_a54c7_row4_col3\" class=\"data row4 col3\" >0.7301</td>\n",
              "      <td id=\"T_a54c7_row4_col4\" class=\"data row4 col4\" >0.7069</td>\n",
              "      <td id=\"T_a54c7_row4_col5\" class=\"data row4 col5\" >0.4200</td>\n",
              "      <td id=\"T_a54c7_row4_col6\" class=\"data row4 col6\" >0.4389</td>\n",
              "    </tr>\n",
              "    <tr>\n",
              "      <th id=\"T_a54c7_level0_row5\" class=\"row_heading level0 row5\" >5</th>\n",
              "      <td id=\"T_a54c7_row5_col0\" class=\"data row5 col0\" >0.6811</td>\n",
              "      <td id=\"T_a54c7_row5_col1\" class=\"data row5 col1\" >0.7815</td>\n",
              "      <td id=\"T_a54c7_row5_col2\" class=\"data row5 col2\" >0.6811</td>\n",
              "      <td id=\"T_a54c7_row5_col3\" class=\"data row5 col3\" >0.6841</td>\n",
              "      <td id=\"T_a54c7_row5_col4\" class=\"data row5 col4\" >0.6770</td>\n",
              "      <td id=\"T_a54c7_row5_col5\" class=\"data row5 col5\" >0.3543</td>\n",
              "      <td id=\"T_a54c7_row5_col6\" class=\"data row5 col6\" >0.3603</td>\n",
              "    </tr>\n",
              "    <tr>\n",
              "      <th id=\"T_a54c7_level0_row6\" class=\"row_heading level0 row6\" >6</th>\n",
              "      <td id=\"T_a54c7_row6_col0\" class=\"data row6 col0\" >0.7183</td>\n",
              "      <td id=\"T_a54c7_row6_col1\" class=\"data row6 col1\" >0.8001</td>\n",
              "      <td id=\"T_a54c7_row6_col2\" class=\"data row6 col2\" >0.7183</td>\n",
              "      <td id=\"T_a54c7_row6_col3\" class=\"data row6 col3\" >0.7201</td>\n",
              "      <td id=\"T_a54c7_row6_col4\" class=\"data row6 col4\" >0.7161</td>\n",
              "      <td id=\"T_a54c7_row6_col5\" class=\"data row6 col5\" >0.4311</td>\n",
              "      <td id=\"T_a54c7_row6_col6\" class=\"data row6 col6\" >0.4348</td>\n",
              "    </tr>\n",
              "    <tr>\n",
              "      <th id=\"T_a54c7_level0_row7\" class=\"row_heading level0 row7\" >7</th>\n",
              "      <td id=\"T_a54c7_row7_col0\" class=\"data row7 col0\" >0.7307</td>\n",
              "      <td id=\"T_a54c7_row7_col1\" class=\"data row7 col1\" >0.8177</td>\n",
              "      <td id=\"T_a54c7_row7_col2\" class=\"data row7 col2\" >0.7307</td>\n",
              "      <td id=\"T_a54c7_row7_col3\" class=\"data row7 col3\" >0.7349</td>\n",
              "      <td id=\"T_a54c7_row7_col4\" class=\"data row7 col4\" >0.7275</td>\n",
              "      <td id=\"T_a54c7_row7_col5\" class=\"data row7 col5\" >0.4550</td>\n",
              "      <td id=\"T_a54c7_row7_col6\" class=\"data row7 col6\" >0.4616</td>\n",
              "    </tr>\n",
              "    <tr>\n",
              "      <th id=\"T_a54c7_level0_row8\" class=\"row_heading level0 row8\" >8</th>\n",
              "      <td id=\"T_a54c7_row8_col0\" class=\"data row8 col0\" >0.7205</td>\n",
              "      <td id=\"T_a54c7_row8_col1\" class=\"data row8 col1\" >0.8083</td>\n",
              "      <td id=\"T_a54c7_row8_col2\" class=\"data row8 col2\" >0.7205</td>\n",
              "      <td id=\"T_a54c7_row8_col3\" class=\"data row8 col3\" >0.7234</td>\n",
              "      <td id=\"T_a54c7_row8_col4\" class=\"data row8 col4\" >0.7179</td>\n",
              "      <td id=\"T_a54c7_row8_col5\" class=\"data row8 col5\" >0.4354</td>\n",
              "      <td id=\"T_a54c7_row8_col6\" class=\"data row8 col6\" >0.4404</td>\n",
              "    </tr>\n",
              "    <tr>\n",
              "      <th id=\"T_a54c7_level0_row9\" class=\"row_heading level0 row9\" >9</th>\n",
              "      <td id=\"T_a54c7_row9_col0\" class=\"data row9 col0\" >0.7267</td>\n",
              "      <td id=\"T_a54c7_row9_col1\" class=\"data row9 col1\" >0.8282</td>\n",
              "      <td id=\"T_a54c7_row9_col2\" class=\"data row9 col2\" >0.7267</td>\n",
              "      <td id=\"T_a54c7_row9_col3\" class=\"data row9 col3\" >0.7292</td>\n",
              "      <td id=\"T_a54c7_row9_col4\" class=\"data row9 col4\" >0.7245</td>\n",
              "      <td id=\"T_a54c7_row9_col5\" class=\"data row9 col5\" >0.4483</td>\n",
              "      <td id=\"T_a54c7_row9_col6\" class=\"data row9 col6\" >0.4526</td>\n",
              "    </tr>\n",
              "    <tr>\n",
              "      <th id=\"T_a54c7_level0_row10\" class=\"row_heading level0 row10\" >Mean</th>\n",
              "      <td id=\"T_a54c7_row10_col0\" class=\"data row10 col0\" >0.7218</td>\n",
              "      <td id=\"T_a54c7_row10_col1\" class=\"data row10 col1\" >0.8095</td>\n",
              "      <td id=\"T_a54c7_row10_col2\" class=\"data row10 col2\" >0.7218</td>\n",
              "      <td id=\"T_a54c7_row10_col3\" class=\"data row10 col3\" >0.7272</td>\n",
              "      <td id=\"T_a54c7_row10_col4\" class=\"data row10 col4\" >0.7180</td>\n",
              "      <td id=\"T_a54c7_row10_col5\" class=\"data row10 col5\" >0.4368</td>\n",
              "      <td id=\"T_a54c7_row10_col6\" class=\"data row10 col6\" >0.4448</td>\n",
              "    </tr>\n",
              "    <tr>\n",
              "      <th id=\"T_a54c7_level0_row11\" class=\"row_heading level0 row11\" >Std</th>\n",
              "      <td id=\"T_a54c7_row11_col0\" class=\"data row11 col0\" >0.0173</td>\n",
              "      <td id=\"T_a54c7_row11_col1\" class=\"data row11 col1\" >0.0146</td>\n",
              "      <td id=\"T_a54c7_row11_col2\" class=\"data row11 col2\" >0.0173</td>\n",
              "      <td id=\"T_a54c7_row11_col3\" class=\"data row11 col3\" >0.0185</td>\n",
              "      <td id=\"T_a54c7_row11_col4\" class=\"data row11 col4\" >0.0176</td>\n",
              "      <td id=\"T_a54c7_row11_col5\" class=\"data row11 col5\" >0.0350</td>\n",
              "      <td id=\"T_a54c7_row11_col6\" class=\"data row11 col6\" >0.0357</td>\n",
              "    </tr>\n",
              "  </tbody>\n",
              "</table>\n"
            ]
          },
          "metadata": {}
        },
        {
          "output_type": "display_data",
          "data": {
            "text/plain": [
              "Processing:   0%|          | 0/7 [00:00<?, ?it/s]"
            ],
            "application/vnd.jupyter.widget-view+json": {
              "version_major": 2,
              "version_minor": 0,
              "model_id": "1b377a7781784b98a4b98868af794780"
            }
          },
          "metadata": {
            "application/vnd.jupyter.widget-view+json": {
              "colab": {
                "custom_widget_manager": {
                  "url": "https://ssl.gstatic.com/colaboratory-static/widgets/colab-cdn-widget-manager/2b70e893a8ba7c0f/manager.min.js"
                }
              }
            }
          }
        },
        {
          "output_type": "stream",
          "name": "stdout",
          "text": [
            "Fitting 10 folds for each of 10 candidates, totalling 100 fits\n"
          ]
        },
        {
          "output_type": "display_data",
          "data": {
            "text/plain": [
              "<IPython.core.display.HTML object>"
            ],
            "text/html": []
          },
          "metadata": {}
        },
        {
          "output_type": "stream",
          "name": "stdout",
          "text": [
            "Original model was better than the tuned model, hence it will be returned. NOTE: The display metrics are for the tuned model (not the original one).\n"
          ]
        }
      ]
    },
    {
      "cell_type": "code",
      "source": [
        "# Since the original model outperformed the tuned model during hyperparameter optimization, it was selected for further evaluation\n",
        "# Model Evaluation\n",
        "evaluate_model(best_model)"
      ],
      "metadata": {
        "colab": {
          "base_uri": "https://localhost:8080/",
          "height": 757,
          "referenced_widgets": [
            "657eea187d2d4e0eb2e3893a93f2524b",
            "0a6e23a64c7d42b68064e6aa5d8a73bf",
            "e9926e5a9e4c479099c7081ea71a405f",
            "bda73912c5364dd69e4b09106a0a7e22",
            "c6293f4b7bb94e6fa0144cce8f9f9058",
            "0fbc37a242a7409b8b67092f5282b291",
            "060c2b6a442c495c82d76c524beac4de"
          ]
        },
        "id": "mIpKkw9_A2eX",
        "outputId": "fbce1c48-4049-4d92-df8e-727cbb5ef7fa"
      },
      "execution_count": 19,
      "outputs": [
        {
          "output_type": "display_data",
          "data": {
            "text/plain": [
              "interactive(children=(ToggleButtons(description='Plot Type:', icons=('',), options=(('Pipeline Plot', 'pipelin…"
            ],
            "application/vnd.jupyter.widget-view+json": {
              "version_major": 2,
              "version_minor": 0,
              "model_id": "657eea187d2d4e0eb2e3893a93f2524b"
            }
          },
          "metadata": {
            "application/vnd.jupyter.widget-view+json": {
              "colab": {
                "custom_widget_manager": {
                  "url": "https://ssl.gstatic.com/colaboratory-static/widgets/colab-cdn-widget-manager/2b70e893a8ba7c0f/manager.min.js"
                }
              }
            }
          }
        }
      ]
    },
    {
      "cell_type": "code",
      "source": [
        "plot_model(best_model, plot=\"confusion_matrix\")"
      ],
      "metadata": {
        "colab": {
          "base_uri": "https://localhost:8080/",
          "height": 551
        },
        "id": "w_OVo99LcGs1",
        "outputId": "372ab466-d96b-47b3-86bf-9c17b5255bf3"
      },
      "execution_count": 20,
      "outputs": [
        {
          "output_type": "display_data",
          "data": {
            "text/plain": [
              "<IPython.core.display.HTML object>"
            ],
            "text/html": []
          },
          "metadata": {}
        },
        {
          "output_type": "display_data",
          "data": {
            "text/plain": [
              "<Figure size 800x550 with 1 Axes>"
            ],
            "image/png": "[encoded data removed]"
          },
          "metadata": {}
        }
      ]
    },
    {
      "cell_type": "code",
      "source": [
        "plot_model(best_model, plot=\"auc\")"
      ],
      "metadata": {
        "colab": {
          "base_uri": "https://localhost:8080/",
          "height": 524
        },
        "id": "9n8Ex7zFcLQL",
        "outputId": "9650f6e1-1757-424d-aa35-6d2bc83e9ae5"
      },
      "execution_count": 21,
      "outputs": [
        {
          "output_type": "display_data",
          "data": {
            "text/plain": [
              "<IPython.core.display.HTML object>"
            ],
            "text/html": []
          },
          "metadata": {}
        },
        {
          "output_type": "display_data",
          "data": {
            "text/plain": [
              "<Figure size 800x550 with 1 Axes>"
            ],
            "image/png": "[encoded data removed]"
          },
          "metadata": {}
        }
      ]
    },
    {
      "cell_type": "code",
      "source": [
        "# Feature Importance Visualization\n",
        "plot_model(best_model, plot = 'feature')"
      ],
      "metadata": {
        "colab": {
          "base_uri": "https://localhost:8080/",
          "height": 485
        },
        "id": "B3fbHUESA-l4",
        "outputId": "5aba3bec-7043-473b-d8ec-4b0bccafc2a4"
      },
      "execution_count": 22,
      "outputs": [
        {
          "output_type": "display_data",
          "data": {
            "text/plain": [
              "<IPython.core.display.HTML object>"
            ],
            "text/html": []
          },
          "metadata": {}
        },
        {
          "output_type": "display_data",
          "data": {
            "text/plain": [
              "<Figure size 800x500 with 1 Axes>"
            ],
            "image/png": "[encoded data removed]"
          },
          "metadata": {}
        }
      ]
    },
    {
      "cell_type": "code",
      "source": [
        " # Model Saving\n",
        "save_model(best_model_tuned, 'best_model_tuned')"
      ],
      "metadata": {
        "colab": {
          "base_uri": "https://localhost:8080/"
        },
        "id": "PXPjmBTOBuJw",
        "outputId": "cd3b5941-3493-4dd8-824f-3655ec0e921f"
      },
      "execution_count": 23,
      "outputs": [
        {
          "output_type": "stream",
          "name": "stdout",
          "text": [
            "Transformation Pipeline and Model Successfully Saved\n"
          ]
        },
        {
          "output_type": "execute_result",
          "data": {
            "text/plain": [
              "(Pipeline(memory=Memory(location=None),\n",
              "          steps=[('label_encoding',\n",
              "                  TransformerWrapperWithInverse(exclude=None, include=None,\n",
              "                                                transformer=LabelEncoder())),\n",
              "                 ('numerical_imputer',\n",
              "                  TransformerWrapper(exclude=None,\n",
              "                                     include=['total_actions',\n",
              "                                              'days_between_actions',\n",
              "                                              'percentage_active_actions',\n",
              "                                              'percentage_manual_actions',\n",
              "                                              'percentage_auto_actions',\n",
              "                                              'jt_country', 'jt_sc...\n",
              "                  RandomForestClassifier(bootstrap=True, ccp_alpha=0.0,\n",
              "                                         class_weight=None, criterion='gini',\n",
              "                                         max_depth=None, max_features='sqrt',\n",
              "                                         max_leaf_nodes=None, max_samples=None,\n",
              "                                         min_impurity_decrease=0.0,\n",
              "                                         min_samples_leaf=1, min_samples_split=2,\n",
              "                                         min_weight_fraction_leaf=0.0,\n",
              "                                         monotonic_cst=None, n_estimators=100,\n",
              "                                         n_jobs=-1, oob_score=False,\n",
              "                                         random_state=42, verbose=0,\n",
              "                                         warm_start=False))],\n",
              "          verbose=False),\n",
              " 'best_model_tuned.pkl')"
            ]
          },
          "metadata": {},
          "execution_count": 23
        }
      ]
    }
  ]
}